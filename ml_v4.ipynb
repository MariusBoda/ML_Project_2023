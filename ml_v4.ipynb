{
 "cells": [
  {
   "cell_type": "code",
   "execution_count": 1,
   "id": "67bb23cd-2ccb-4cbd-8c78-0ff80ef56bc8",
   "metadata": {},
   "outputs": [],
   "source": [
    "import numpy as np                   \n",
    "import pandas as pd                  \n",
    "import matplotlib.pyplot as plt\n",
    "import string\n",
    "from sklearn.naive_bayes import MultinomialNB\n",
    "from sklearn.model_selection import train_test_split \n",
    "from sklearn.feature_extraction.text import TfidfVectorizer"
   ]
  },
  {
   "cell_type": "code",
   "execution_count": 2,
   "id": "d91d22ee-9c29-4143-8262-f1228b30a9bc",
   "metadata": {
    "tags": []
   },
   "outputs": [
    {
     "data": {
      "text/html": [
       "<div>\n",
       "<style scoped>\n",
       "    .dataframe tbody tr th:only-of-type {\n",
       "        vertical-align: middle;\n",
       "    }\n",
       "\n",
       "    .dataframe tbody tr th {\n",
       "        vertical-align: top;\n",
       "    }\n",
       "\n",
       "    .dataframe thead th {\n",
       "        text-align: right;\n",
       "    }\n",
       "</style>\n",
       "<table border=\"1\" class=\"dataframe\">\n",
       "  <thead>\n",
       "    <tr style=\"text-align: right;\">\n",
       "      <th></th>\n",
       "      <th>selected_text</th>\n",
       "      <th>sentiment</th>\n",
       "    </tr>\n",
       "  </thead>\n",
       "  <tbody>\n",
       "    <tr>\n",
       "      <th>1</th>\n",
       "      <td>I`d have responded, if I were going</td>\n",
       "      <td>3</td>\n",
       "    </tr>\n",
       "    <tr>\n",
       "      <th>2</th>\n",
       "      <td>Sooo SAD</td>\n",
       "      <td>1</td>\n",
       "    </tr>\n",
       "    <tr>\n",
       "      <th>3</th>\n",
       "      <td>bullying me</td>\n",
       "      <td>1</td>\n",
       "    </tr>\n",
       "    <tr>\n",
       "      <th>4</th>\n",
       "      <td>leave me alone</td>\n",
       "      <td>1</td>\n",
       "    </tr>\n",
       "    <tr>\n",
       "      <th>5</th>\n",
       "      <td>Sons of bitches,</td>\n",
       "      <td>1</td>\n",
       "    </tr>\n",
       "  </tbody>\n",
       "</table>\n",
       "</div>"
      ],
      "text/plain": [
       "0                        selected_text sentiment\n",
       "1  I`d have responded, if I were going         3\n",
       "2                             Sooo SAD         1\n",
       "3                          bullying me         1\n",
       "4                       leave me alone         1\n",
       "5                     Sons of bitches,         1"
      ]
     },
     "execution_count": 2,
     "metadata": {},
     "output_type": "execute_result"
    }
   ],
   "source": [
    "# Read the CSV file into a DataFrame with header=None\n",
    "data = pd.read_csv(\"filtered_file duplicate.csv\", header=None)\n",
    "\n",
    "# Extract the first row as column names and remove it from the DataFrame\n",
    "column_names = data.iloc[0]\n",
    "data = data[1:]\n",
    "\n",
    "# Set the column names to the DataFrame\n",
    "data.columns = column_names\n",
    "data.head(5)"
   ]
  },
  {
   "cell_type": "code",
   "execution_count": 3,
   "id": "7ffcf9d7-d956-435b-8127-3fc9c30c8b5b",
   "metadata": {
    "tags": []
   },
   "outputs": [
    {
     "data": {
      "text/html": [
       "<div>\n",
       "<style scoped>\n",
       "    .dataframe tbody tr th:only-of-type {\n",
       "        vertical-align: middle;\n",
       "    }\n",
       "\n",
       "    .dataframe tbody tr th {\n",
       "        vertical-align: top;\n",
       "    }\n",
       "\n",
       "    .dataframe thead th {\n",
       "        text-align: right;\n",
       "    }\n",
       "</style>\n",
       "<table border=\"1\" class=\"dataframe\">\n",
       "  <thead>\n",
       "    <tr style=\"text-align: right;\">\n",
       "      <th></th>\n",
       "      <th>selected_text</th>\n",
       "      <th>sentiment</th>\n",
       "    </tr>\n",
       "  </thead>\n",
       "  <tbody>\n",
       "    <tr>\n",
       "      <th>1</th>\n",
       "      <td>#AAPL:The 10 best Steve Jobs emails ever...htt...</td>\n",
       "      <td>3</td>\n",
       "    </tr>\n",
       "    <tr>\n",
       "      <th>2</th>\n",
       "      <td>RT @JPDesloges: Why AAPL Stock Had a Mini-Flas...</td>\n",
       "      <td>3</td>\n",
       "    </tr>\n",
       "    <tr>\n",
       "      <th>3</th>\n",
       "      <td>My cat only chews @apple cords. Such an #Apple...</td>\n",
       "      <td>3</td>\n",
       "    </tr>\n",
       "    <tr>\n",
       "      <th>4</th>\n",
       "      <td>I agree with @jimcramer that the #IndividualIn...</td>\n",
       "      <td>3</td>\n",
       "    </tr>\n",
       "    <tr>\n",
       "      <th>5</th>\n",
       "      <td>Nobody expects the Spanish Inquisition #AAPL</td>\n",
       "      <td>3</td>\n",
       "    </tr>\n",
       "  </tbody>\n",
       "</table>\n",
       "</div>"
      ],
      "text/plain": [
       "                                       selected_text sentiment\n",
       "1  #AAPL:The 10 best Steve Jobs emails ever...htt...         3\n",
       "2  RT @JPDesloges: Why AAPL Stock Had a Mini-Flas...         3\n",
       "3  My cat only chews @apple cords. Such an #Apple...         3\n",
       "4  I agree with @jimcramer that the #IndividualIn...         3\n",
       "5       Nobody expects the Spanish Inquisition #AAPL         3"
      ]
     },
     "execution_count": 3,
     "metadata": {},
     "output_type": "execute_result"
    }
   ],
   "source": [
    "data2 = pd.read_csv(\"Apple-Twitter-Sentiment-DFE.csv\", sep=';', encoding='utf-8', header = 0)\n",
    "headers = data2.iloc[0]\n",
    "data2.columns = headers\n",
    "data2 = data2.iloc[1:]\n",
    "filtered_data = pd.DataFrame()\n",
    "filtered_data['selected_text'] = data2['text']\n",
    "filtered_data['sentiment'] = data2['sentiment']\n",
    "filtered_data.head(5)"
   ]
  },
  {
   "cell_type": "code",
   "execution_count": 4,
   "id": "56b9798b-a78e-4f91-8bea-991807d3803f",
   "metadata": {
    "tags": []
   },
   "outputs": [
    {
     "data": {
      "text/html": [
       "<div>\n",
       "<style scoped>\n",
       "    .dataframe tbody tr th:only-of-type {\n",
       "        vertical-align: middle;\n",
       "    }\n",
       "\n",
       "    .dataframe tbody tr th {\n",
       "        vertical-align: top;\n",
       "    }\n",
       "\n",
       "    .dataframe thead th {\n",
       "        text-align: right;\n",
       "    }\n",
       "</style>\n",
       "<table border=\"1\" class=\"dataframe\">\n",
       "  <thead>\n",
       "    <tr style=\"text-align: right;\">\n",
       "      <th></th>\n",
       "      <th>selected_text</th>\n",
       "      <th>sentiment</th>\n",
       "    </tr>\n",
       "  </thead>\n",
       "  <tbody>\n",
       "    <tr>\n",
       "      <th>1</th>\n",
       "      <td>I`d have responded, if I were going</td>\n",
       "      <td>3</td>\n",
       "    </tr>\n",
       "    <tr>\n",
       "      <th>2</th>\n",
       "      <td>Sooo SAD I will miss you here in San Diego!!!</td>\n",
       "      <td>1</td>\n",
       "    </tr>\n",
       "    <tr>\n",
       "      <th>3</th>\n",
       "      <td>my boss is bullying me...</td>\n",
       "      <td>1</td>\n",
       "    </tr>\n",
       "    <tr>\n",
       "      <th>4</th>\n",
       "      <td>what interview! leave me alone</td>\n",
       "      <td>1</td>\n",
       "    </tr>\n",
       "    <tr>\n",
       "      <th>5</th>\n",
       "      <td>Sons of ****, why couldn`t they put them on t...</td>\n",
       "      <td>1</td>\n",
       "    </tr>\n",
       "    <tr>\n",
       "      <th>...</th>\n",
       "      <td>...</td>\n",
       "      <td>...</td>\n",
       "    </tr>\n",
       "    <tr>\n",
       "      <th>27477</th>\n",
       "      <td>wish we could come see u on Denver  husband l...</td>\n",
       "      <td>1</td>\n",
       "    </tr>\n",
       "    <tr>\n",
       "      <th>27478</th>\n",
       "      <td>I`ve wondered about rake to.  The client has ...</td>\n",
       "      <td>1</td>\n",
       "    </tr>\n",
       "    <tr>\n",
       "      <th>27479</th>\n",
       "      <td>Yay good for both of you. Enjoy the break - y...</td>\n",
       "      <td>5</td>\n",
       "    </tr>\n",
       "    <tr>\n",
       "      <th>27480</th>\n",
       "      <td>But it was worth it  ****.</td>\n",
       "      <td>5</td>\n",
       "    </tr>\n",
       "    <tr>\n",
       "      <th>27481</th>\n",
       "      <td>All this flirting going on - The ATG smiles...</td>\n",
       "      <td>3</td>\n",
       "    </tr>\n",
       "  </tbody>\n",
       "</table>\n",
       "<p>27481 rows × 2 columns</p>\n",
       "</div>"
      ],
      "text/plain": [
       "                                           selected_text  sentiment\n",
       "1                    I`d have responded, if I were going          3\n",
       "2          Sooo SAD I will miss you here in San Diego!!!          1\n",
       "3                              my boss is bullying me...          1\n",
       "4                         what interview! leave me alone          1\n",
       "5       Sons of ****, why couldn`t they put them on t...          1\n",
       "...                                                  ...        ...\n",
       "27477   wish we could come see u on Denver  husband l...          1\n",
       "27478   I`ve wondered about rake to.  The client has ...          1\n",
       "27479   Yay good for both of you. Enjoy the break - y...          5\n",
       "27480                         But it was worth it  ****.          5\n",
       "27481     All this flirting going on - The ATG smiles...          3\n",
       "\n",
       "[27481 rows x 2 columns]"
      ]
     },
     "execution_count": 4,
     "metadata": {},
     "output_type": "execute_result"
    }
   ],
   "source": [
    "data3 = pd.read_csv(\"Tweets.csv\", header = None)\n",
    "headers = data3.iloc[0]\n",
    "data3.columns = headers\n",
    "data3 = data3.iloc[1:]\n",
    "filtered_data2 = pd.DataFrame()\n",
    "filtered_data2['selected_text'] = data3['text']\n",
    "filtered_data2['sentiment'] = data3['sentiment']\n",
    "\n",
    "sentiment_mapping = {'positive': 5, 'negative': 1, 'neutral': 3}\n",
    "filtered_data2['sentiment'] = filtered_data2['sentiment'].replace(sentiment_mapping)\n",
    "\n",
    "# Now, 'sentiment' column contains the mapped integer values\n",
    "filtered_data2['sentiment'] = filtered_data2['sentiment'].astype(int)\n",
    "\n",
    "\n",
    "filtered_data2.head(100000)"
   ]
  },
  {
   "cell_type": "code",
   "execution_count": 5,
   "id": "f700d61e-41d4-4535-ac55-5dd99cabb014",
   "metadata": {
    "tags": []
   },
   "outputs": [
    {
     "data": {
      "text/html": [
       "<div>\n",
       "<style scoped>\n",
       "    .dataframe tbody tr th:only-of-type {\n",
       "        vertical-align: middle;\n",
       "    }\n",
       "\n",
       "    .dataframe tbody tr th {\n",
       "        vertical-align: top;\n",
       "    }\n",
       "\n",
       "    .dataframe thead th {\n",
       "        text-align: right;\n",
       "    }\n",
       "</style>\n",
       "<table border=\"1\" class=\"dataframe\">\n",
       "  <thead>\n",
       "    <tr style=\"text-align: right;\">\n",
       "      <th></th>\n",
       "      <th>selected_text</th>\n",
       "      <th>sentiment</th>\n",
       "    </tr>\n",
       "  </thead>\n",
       "  <tbody>\n",
       "    <tr>\n",
       "      <th>1</th>\n",
       "      <td>I`d have responded, if I were going</td>\n",
       "      <td>3</td>\n",
       "    </tr>\n",
       "    <tr>\n",
       "      <th>2</th>\n",
       "      <td>Sooo SAD</td>\n",
       "      <td>1</td>\n",
       "    </tr>\n",
       "    <tr>\n",
       "      <th>3</th>\n",
       "      <td>bullying me</td>\n",
       "      <td>1</td>\n",
       "    </tr>\n",
       "    <tr>\n",
       "      <th>4</th>\n",
       "      <td>leave me alone</td>\n",
       "      <td>1</td>\n",
       "    </tr>\n",
       "    <tr>\n",
       "      <th>5</th>\n",
       "      <td>Sons of bitches,</td>\n",
       "      <td>1</td>\n",
       "    </tr>\n",
       "    <tr>\n",
       "      <th>...</th>\n",
       "      <td>...</td>\n",
       "      <td>...</td>\n",
       "    </tr>\n",
       "    <tr>\n",
       "      <th>3882</th>\n",
       "      <td>(Via FC) Apple Is Warming Up To Social Media -...</td>\n",
       "      <td>3</td>\n",
       "    </tr>\n",
       "    <tr>\n",
       "      <th>3883</th>\n",
       "      <td>RT @MMLXIV: there is no avocado emoji may I as...</td>\n",
       "      <td>3</td>\n",
       "    </tr>\n",
       "    <tr>\n",
       "      <th>3884</th>\n",
       "      <td>@marcbulandr I could not agree more. Between @...</td>\n",
       "      <td>5</td>\n",
       "    </tr>\n",
       "    <tr>\n",
       "      <th>3885</th>\n",
       "      <td>My iPhone 5's photos are no longer downloading...</td>\n",
       "      <td>1</td>\n",
       "    </tr>\n",
       "    <tr>\n",
       "      <th>3886</th>\n",
       "      <td>RT @SwiftKey: We're so excited to be named to ...</td>\n",
       "      <td>5</td>\n",
       "    </tr>\n",
       "  </tbody>\n",
       "</table>\n",
       "<p>31367 rows × 2 columns</p>\n",
       "</div>"
      ],
      "text/plain": [
       "                                          selected_text sentiment\n",
       "1                   I`d have responded, if I were going         3\n",
       "2                                              Sooo SAD         1\n",
       "3                                           bullying me         1\n",
       "4                                        leave me alone         1\n",
       "5                                      Sons of bitches,         1\n",
       "...                                                 ...       ...\n",
       "3882  (Via FC) Apple Is Warming Up To Social Media -...         3\n",
       "3883  RT @MMLXIV: there is no avocado emoji may I as...         3\n",
       "3884  @marcbulandr I could not agree more. Between @...         5\n",
       "3885  My iPhone 5's photos are no longer downloading...         1\n",
       "3886  RT @SwiftKey: We're so excited to be named to ...         5\n",
       "\n",
       "[31367 rows x 2 columns]"
      ]
     },
     "execution_count": 5,
     "metadata": {},
     "output_type": "execute_result"
    }
   ],
   "source": [
    "#combine the two data sets apple + general\n",
    "data = pd.concat([data, filtered_data], axis=0)\n",
    "data.head(100000)"
   ]
  },
  {
   "cell_type": "code",
   "execution_count": 6,
   "id": "229fee7c-f66e-429e-93be-20a3a8ff5ae7",
   "metadata": {
    "tags": []
   },
   "outputs": [
    {
     "data": {
      "text/html": [
       "<div>\n",
       "<style scoped>\n",
       "    .dataframe tbody tr th:only-of-type {\n",
       "        vertical-align: middle;\n",
       "    }\n",
       "\n",
       "    .dataframe tbody tr th {\n",
       "        vertical-align: top;\n",
       "    }\n",
       "\n",
       "    .dataframe thead th {\n",
       "        text-align: right;\n",
       "    }\n",
       "</style>\n",
       "<table border=\"1\" class=\"dataframe\">\n",
       "  <thead>\n",
       "    <tr style=\"text-align: right;\">\n",
       "      <th></th>\n",
       "      <th>selected_text</th>\n",
       "      <th>sentiment</th>\n",
       "    </tr>\n",
       "  </thead>\n",
       "  <tbody>\n",
       "    <tr>\n",
       "      <th>1</th>\n",
       "      <td>I`d have responded, if I were going</td>\n",
       "      <td>3</td>\n",
       "    </tr>\n",
       "    <tr>\n",
       "      <th>2</th>\n",
       "      <td>Sooo SAD</td>\n",
       "      <td>1</td>\n",
       "    </tr>\n",
       "    <tr>\n",
       "      <th>3</th>\n",
       "      <td>bullying me</td>\n",
       "      <td>1</td>\n",
       "    </tr>\n",
       "    <tr>\n",
       "      <th>4</th>\n",
       "      <td>leave me alone</td>\n",
       "      <td>1</td>\n",
       "    </tr>\n",
       "    <tr>\n",
       "      <th>5</th>\n",
       "      <td>Sons of bitches,</td>\n",
       "      <td>1</td>\n",
       "    </tr>\n",
       "    <tr>\n",
       "      <th>...</th>\n",
       "      <td>...</td>\n",
       "      <td>...</td>\n",
       "    </tr>\n",
       "    <tr>\n",
       "      <th>27477</th>\n",
       "      <td>wish we could come see u on Denver  husband l...</td>\n",
       "      <td>1</td>\n",
       "    </tr>\n",
       "    <tr>\n",
       "      <th>27478</th>\n",
       "      <td>I`ve wondered about rake to.  The client has ...</td>\n",
       "      <td>1</td>\n",
       "    </tr>\n",
       "    <tr>\n",
       "      <th>27479</th>\n",
       "      <td>Yay good for both of you. Enjoy the break - y...</td>\n",
       "      <td>5</td>\n",
       "    </tr>\n",
       "    <tr>\n",
       "      <th>27480</th>\n",
       "      <td>But it was worth it  ****.</td>\n",
       "      <td>5</td>\n",
       "    </tr>\n",
       "    <tr>\n",
       "      <th>27481</th>\n",
       "      <td>All this flirting going on - The ATG smiles...</td>\n",
       "      <td>3</td>\n",
       "    </tr>\n",
       "  </tbody>\n",
       "</table>\n",
       "<p>58848 rows × 2 columns</p>\n",
       "</div>"
      ],
      "text/plain": [
       "                                           selected_text sentiment\n",
       "1                    I`d have responded, if I were going         3\n",
       "2                                               Sooo SAD         1\n",
       "3                                            bullying me         1\n",
       "4                                         leave me alone         1\n",
       "5                                       Sons of bitches,         1\n",
       "...                                                  ...       ...\n",
       "27477   wish we could come see u on Denver  husband l...         1\n",
       "27478   I`ve wondered about rake to.  The client has ...         1\n",
       "27479   Yay good for both of you. Enjoy the break - y...         5\n",
       "27480                         But it was worth it  ****.         5\n",
       "27481     All this flirting going on - The ATG smiles...         3\n",
       "\n",
       "[58848 rows x 2 columns]"
      ]
     },
     "execution_count": 6,
     "metadata": {},
     "output_type": "execute_result"
    }
   ],
   "source": [
    "data = pd.concat([data, filtered_data2], axis=0)\n",
    "data.head(100000)"
   ]
  },
  {
   "cell_type": "code",
   "execution_count": 21,
   "id": "c5190b84-5919-4605-9687-431ea1b150a4",
   "metadata": {
    "tags": []
   },
   "outputs": [
    {
     "name": "stdout",
     "output_type": "stream",
     "text": [
      "['3' '1' '5' 3 1 5]\n"
     ]
    }
   ],
   "source": [
    "# Check unique values in the 'sentiment' column\n",
    "unique_sentiments = data['sentiment'].unique()\n",
    "print(unique_sentiments)\n",
    "\n",
    "# If 'not_relevant' is present, remove those rows or replace it with a valid integer label\n",
    "data = data[data['sentiment'] != 'not_relevant']\n",
    "\n",
    "# Now, convert the 'sentiment' column to integers\n",
    "sentiment_mapping = {'positive': 5, 'negative': 1, 'neutral': 3}\n",
    "data['sentiment'] = data['sentiment'].replace(sentiment_mapping)\n",
    "data['sentiment'] = data['sentiment'].astype(int)"
   ]
  },
  {
   "cell_type": "code",
   "execution_count": 50,
   "id": "6beb2083-cdcf-4ad4-bdcb-57ef004ad86e",
   "metadata": {
    "tags": []
   },
   "outputs": [],
   "source": [
    "# Separate the DataFrame into three DataFrames based on sentiment values\n",
    "sentiment_1_df = data[data['sentiment'] == 1]\n",
    "sentiment_3_df = data[data['sentiment'] == 3]\n",
    "sentiment_5_df = data[data['sentiment'] == 5]\n",
    "\n",
    "# Determine the minimum number of rows among the three sentiment DataFrames\n",
    "min_rows = min(len(sentiment_1_df), len(sentiment_3_df), len(sentiment_5_df))\n",
    "\n",
    "# Randomly sample the same number of rows from each sentiment DataFrame\n",
    "sampled_sentiment_1_df = sentiment_1_df.sample(n=min_rows, random_state=42)\n",
    "sampled_sentiment_3_df = sentiment_3_df.sample(n=min_rows, random_state=42)\n",
    "sampled_sentiment_5_df = sentiment_5_df.sample(n=min_rows, random_state=42)\n",
    "\n",
    "# Concatenate the sampled DataFrames to create the final DataFrame\n",
    "final_df = pd.concat([sampled_sentiment_1_df, sampled_sentiment_3_df, sampled_sentiment_5_df])\n",
    "\n",
    "# Shuffle the final DataFrame to randomize the order of rows\n",
    "final_df = final_df.sample(frac=1, random_state=42)\n",
    "data = final_df"
   ]
  },
  {
   "cell_type": "code",
   "execution_count": 51,
   "id": "40b0db94-2da4-457b-b197-7c3a9acaa571",
   "metadata": {
    "tags": []
   },
   "outputs": [],
   "source": [
    "data['selected_text'] = data['selected_text'].fillna('')\n",
    "data['selected_text'] = data['selected_text'].str.lower()\n",
    "data['selected_text'] = data['selected_text'].str.replace(r'http\\S+', '', regex=True)\n",
    "data['selected_text'] = data['selected_text'].str.replace(r'@\\S+', '', regex=True)\n",
    "\n",
    "vectorizer = TfidfVectorizer()\n",
    "X = vectorizer.fit_transform(data['selected_text'])\n",
    "vectorizer.get_feature_names_out()\n",
    "y = data['sentiment']"
   ]
  },
  {
   "cell_type": "code",
   "execution_count": 52,
   "id": "93c74661-75ef-4a40-b5ee-ba337838f377",
   "metadata": {
    "tags": []
   },
   "outputs": [
    {
     "data": {
      "text/plain": [
       "(50343,)"
      ]
     },
     "execution_count": 52,
     "metadata": {},
     "output_type": "execute_result"
    }
   ],
   "source": [
    "y.shape"
   ]
  },
  {
   "cell_type": "code",
   "execution_count": 53,
   "id": "10332cd2-1a68-4f3a-9c75-bd443870023c",
   "metadata": {
    "tags": []
   },
   "outputs": [
    {
     "data": {
      "text/plain": [
       "(50343, 26257)"
      ]
     },
     "execution_count": 53,
     "metadata": {},
     "output_type": "execute_result"
    }
   ],
   "source": [
    "X.shape"
   ]
  },
  {
   "cell_type": "code",
   "execution_count": 54,
   "id": "f59cda2b-a7ea-4bb8-ab83-01c2ff26213c",
   "metadata": {
    "tags": []
   },
   "outputs": [],
   "source": [
    "X_train, X_test, Y_train, Y_test = train_test_split(X,y, test_size = 0.6)"
   ]
  },
  {
   "cell_type": "code",
   "execution_count": 55,
   "id": "a9e099f4-6153-4efd-b7cf-af9b7ed30522",
   "metadata": {
    "tags": []
   },
   "outputs": [
    {
     "data": {
      "text/html": [
       "<style>#sk-container-id-3 {color: black;background-color: white;}#sk-container-id-3 pre{padding: 0;}#sk-container-id-3 div.sk-toggleable {background-color: white;}#sk-container-id-3 label.sk-toggleable__label {cursor: pointer;display: block;width: 100%;margin-bottom: 0;padding: 0.3em;box-sizing: border-box;text-align: center;}#sk-container-id-3 label.sk-toggleable__label-arrow:before {content: \"▸\";float: left;margin-right: 0.25em;color: #696969;}#sk-container-id-3 label.sk-toggleable__label-arrow:hover:before {color: black;}#sk-container-id-3 div.sk-estimator:hover label.sk-toggleable__label-arrow:before {color: black;}#sk-container-id-3 div.sk-toggleable__content {max-height: 0;max-width: 0;overflow: hidden;text-align: left;background-color: #f0f8ff;}#sk-container-id-3 div.sk-toggleable__content pre {margin: 0.2em;color: black;border-radius: 0.25em;background-color: #f0f8ff;}#sk-container-id-3 input.sk-toggleable__control:checked~div.sk-toggleable__content {max-height: 200px;max-width: 100%;overflow: auto;}#sk-container-id-3 input.sk-toggleable__control:checked~label.sk-toggleable__label-arrow:before {content: \"▾\";}#sk-container-id-3 div.sk-estimator input.sk-toggleable__control:checked~label.sk-toggleable__label {background-color: #d4ebff;}#sk-container-id-3 div.sk-label input.sk-toggleable__control:checked~label.sk-toggleable__label {background-color: #d4ebff;}#sk-container-id-3 input.sk-hidden--visually {border: 0;clip: rect(1px 1px 1px 1px);clip: rect(1px, 1px, 1px, 1px);height: 1px;margin: -1px;overflow: hidden;padding: 0;position: absolute;width: 1px;}#sk-container-id-3 div.sk-estimator {font-family: monospace;background-color: #f0f8ff;border: 1px dotted black;border-radius: 0.25em;box-sizing: border-box;margin-bottom: 0.5em;}#sk-container-id-3 div.sk-estimator:hover {background-color: #d4ebff;}#sk-container-id-3 div.sk-parallel-item::after {content: \"\";width: 100%;border-bottom: 1px solid gray;flex-grow: 1;}#sk-container-id-3 div.sk-label:hover label.sk-toggleable__label {background-color: #d4ebff;}#sk-container-id-3 div.sk-serial::before {content: \"\";position: absolute;border-left: 1px solid gray;box-sizing: border-box;top: 0;bottom: 0;left: 50%;z-index: 0;}#sk-container-id-3 div.sk-serial {display: flex;flex-direction: column;align-items: center;background-color: white;padding-right: 0.2em;padding-left: 0.2em;position: relative;}#sk-container-id-3 div.sk-item {position: relative;z-index: 1;}#sk-container-id-3 div.sk-parallel {display: flex;align-items: stretch;justify-content: center;background-color: white;position: relative;}#sk-container-id-3 div.sk-item::before, #sk-container-id-3 div.sk-parallel-item::before {content: \"\";position: absolute;border-left: 1px solid gray;box-sizing: border-box;top: 0;bottom: 0;left: 50%;z-index: -1;}#sk-container-id-3 div.sk-parallel-item {display: flex;flex-direction: column;z-index: 1;position: relative;background-color: white;}#sk-container-id-3 div.sk-parallel-item:first-child::after {align-self: flex-end;width: 50%;}#sk-container-id-3 div.sk-parallel-item:last-child::after {align-self: flex-start;width: 50%;}#sk-container-id-3 div.sk-parallel-item:only-child::after {width: 0;}#sk-container-id-3 div.sk-dashed-wrapped {border: 1px dashed gray;margin: 0 0.4em 0.5em 0.4em;box-sizing: border-box;padding-bottom: 0.4em;background-color: white;}#sk-container-id-3 div.sk-label label {font-family: monospace;font-weight: bold;display: inline-block;line-height: 1.2em;}#sk-container-id-3 div.sk-label-container {text-align: center;}#sk-container-id-3 div.sk-container {/* jupyter's `normalize.less` sets `[hidden] { display: none; }` but bootstrap.min.css set `[hidden] { display: none !important; }` so we also need the `!important` here to be able to override the default hidden behavior on the sphinx rendered scikit-learn.org. See: https://github.com/scikit-learn/scikit-learn/issues/21755 */display: inline-block !important;position: relative;}#sk-container-id-3 div.sk-text-repr-fallback {display: none;}</style><div id=\"sk-container-id-3\" class=\"sk-top-container\"><div class=\"sk-text-repr-fallback\"><pre>MultinomialNB()</pre><b>In a Jupyter environment, please rerun this cell to show the HTML representation or trust the notebook. <br />On GitHub, the HTML representation is unable to render, please try loading this page with nbviewer.org.</b></div><div class=\"sk-container\" hidden><div class=\"sk-item\"><div class=\"sk-estimator sk-toggleable\"><input class=\"sk-toggleable__control sk-hidden--visually\" id=\"sk-estimator-id-3\" type=\"checkbox\" checked><label for=\"sk-estimator-id-3\" class=\"sk-toggleable__label sk-toggleable__label-arrow\">MultinomialNB</label><div class=\"sk-toggleable__content\"><pre>MultinomialNB()</pre></div></div></div></div></div>"
      ],
      "text/plain": [
       "MultinomialNB()"
      ]
     },
     "execution_count": 55,
     "metadata": {},
     "output_type": "execute_result"
    }
   ],
   "source": [
    "model = MultinomialNB()\n",
    "model.fit(X_train,Y_train)"
   ]
  },
  {
   "cell_type": "code",
   "execution_count": 56,
   "id": "1b3d4f84-8b8f-4a92-a1a3-8ec8e9414152",
   "metadata": {
    "tags": []
   },
   "outputs": [],
   "source": [
    "y_pred = model.predict(X_test)"
   ]
  },
  {
   "cell_type": "code",
   "execution_count": 57,
   "id": "72cb3169-3780-47ee-a73e-a18230dbdbf5",
   "metadata": {
    "tags": []
   },
   "outputs": [
    {
     "name": "stdout",
     "output_type": "stream",
     "text": [
      "              precision    recall  f1-score   support\n",
      "\n",
      "           1       0.81      0.67      0.73     10110\n",
      "           3       0.61      0.79      0.69     10003\n",
      "           5       0.84      0.72      0.78     10093\n",
      "\n",
      "    accuracy                           0.73     30206\n",
      "   macro avg       0.75      0.73      0.73     30206\n",
      "weighted avg       0.75      0.73      0.73     30206\n",
      "\n"
     ]
    }
   ],
   "source": [
    "from sklearn.metrics import classification_report\n",
    "classification = classification_report(Y_test,y_pred)\n",
    "print(classification)"
   ]
  },
  {
   "cell_type": "code",
   "execution_count": 58,
   "id": "be244363-1cd2-4589-98d9-fccdd5bcb1d3",
   "metadata": {
    "tags": []
   },
   "outputs": [
    {
     "data": {
      "image/png": "[encoded data removed]",
      "text/plain": [
       "<Figure size 800x600 with 2 Axes>"
      ]
     },
     "metadata": {},
     "output_type": "display_data"
    }
   ],
   "source": [
    "from sklearn.metrics import confusion_matrix\n",
    "import seaborn as sns\n",
    "import matplotlib.pyplot as plt\n",
    "\n",
    "# Create a confusion matrix\n",
    "conf_matrix = confusion_matrix(Y_test, y_pred)\n",
    "\n",
    "# Plot the confusion matrix using seaborn and matplotlib\n",
    "plt.figure(figsize=(8, 6))\n",
    "sns.heatmap(conf_matrix, annot=True, fmt='d', cmap='Blues', \n",
    "            xticklabels=['Negative', 'Neutral', 'Positive'], \n",
    "            yticklabels=['Negative', 'Neutral', 'Positive'])\n",
    "plt.xlabel('Predicted')\n",
    "plt.ylabel('Actual')\n",
    "plt.title('Confusion Matrix')\n",
    "plt.show()"
   ]
  },
  {
   "cell_type": "code",
   "execution_count": 59,
   "id": "e30f1872-ce50-4844-b0b4-7c480d810934",
   "metadata": {},
   "outputs": [],
   "source": [
    "def analyze_sentiment(input_text):\n",
    "    # Preprocess the input text\n",
    "    input_text = input_text.lower()\n",
    "\n",
    "    # Transform the input text using the same TF-IDF vectorizer\n",
    "    input_tfidf = vectorizer.transform([input_text])\n",
    "\n",
    "    # Predict the sentiment for the input text\n",
    "    predicted_sentiment = model.predict(input_tfidf)[0]\n",
    "\n",
    "    return predicted_sentiment"
   ]
  },
  {
   "cell_type": "code",
   "execution_count": 75,
   "id": "cc5dea80-bd3e-465b-9faa-46476f4389d9",
   "metadata": {},
   "outputs": [
    {
     "data": {
      "text/plain": [
       "3"
      ]
     },
     "execution_count": 75,
     "metadata": {},
     "output_type": "execute_result"
    }
   ],
   "source": [
    "analyze_sentiment(\"I gave my teacher an apple today, i injected the apple with potasium cyanide. to the moon\")"
   ]
  },
  {
   "cell_type": "code",
   "execution_count": null,
   "id": "0c302933-b531-4198-a320-53e924b14a81",
   "metadata": {},
   "outputs": [],
   "source": []
  }
 ],
 "metadata": {
  "kernelspec": {
   "display_name": "Python 3",
   "language": "python",
   "name": "python3"
  },
  "language_info": {
   "codemirror_mode": {
    "name": "ipython",
    "version": 3
   },
   "file_extension": ".py",
   "mimetype": "text/x-python",
   "name": "python",
   "nbconvert_exporter": "python",
   "pygments_lexer": "ipython3",
   "version": "3.10.8"
  }
 },
 "nbformat": 4,
 "nbformat_minor": 5
}
