{
 "cells": [
  {
   "cell_type": "code",
   "execution_count": 63,
   "id": "3cc62603-fb05-4f0d-98ed-867459b87e4d",
   "metadata": {
    "tags": []
   },
   "outputs": [],
   "source": [
    "import numpy as np                   \n",
    "import pandas as pd                  \n",
    "import matplotlib.pyplot as plt\n",
    "import string\n",
    "from sklearn.naive_bayes import MultinomialNB\n",
    "from sklearn.model_selection import train_test_split \n",
    "from sklearn.feature_extraction.text import TfidfVectorizer\n",
    "\n"
   ]
  },
  {
   "cell_type": "code",
   "execution_count": 12,
   "id": "8506e46a-0771-49d8-bb97-97d4b7e52145",
   "metadata": {
    "tags": []
   },
   "outputs": [
    {
     "name": "stdout",
     "output_type": "stream",
     "text": [
      "Index(['selected_text', 'sentiment'], dtype='object', name=0)\n"
     ]
    }
   ],
   "source": [
    "# Read the CSV file into a DataFrame with header=None\n",
    "data = pd.read_csv(\"filtered_file.csv\", header=None)\n",
    "\n",
    "# Extract the first row as column names and remove it from the DataFrame\n",
    "column_names = data.iloc[0]\n",
    "data = data[1:]\n",
    "\n",
    "# Set the column names to the DataFrame\n",
    "data.columns = column_names\n",
    "print(data.columns)"
   ]
  },
  {
   "cell_type": "code",
   "execution_count": 13,
   "id": "533fd7db-a6d3-4c9f-8761-104a30a7a4a1",
   "metadata": {
    "tags": []
   },
   "outputs": [
    {
     "name": "stdout",
     "output_type": "stream",
     "text": [
      "0                                          selected_text sentiment\n",
      "1                    I`d have responded, if I were going         3\n",
      "2                                               Sooo SAD         1\n",
      "3                                            bullying me         1\n",
      "4                                         leave me alone         1\n",
      "5                                       Sons of bitches,         1\n",
      "...                                                  ...       ...\n",
      "27477                                             d lost         1\n",
      "27478                                      , don`t force         1\n",
      "27479                          Yay good for both of you.         5\n",
      "27480                         But it was worth it  ****.         5\n",
      "27481  All this flirting going on - The ATG smiles. Y...         3\n",
      "\n",
      "[27481 rows x 2 columns]\n"
     ]
    }
   ],
   "source": [
    "\n",
    "print(data)"
   ]
  },
  {
   "cell_type": "code",
   "execution_count": 157,
   "id": "54e52f7c-88fb-4d68-a6a8-6bda2ac25500",
   "metadata": {
    "tags": []
   },
   "outputs": [],
   "source": [
    "\n",
    "def create_vocabulary_list(data):\n",
    "    for index, row in data.iterrows():\n",
    "        # Split the text into words (assuming text is a string)\n",
    "        words = row['selected_text'].lower().split()\n",
    "    \n",
    "        # Update the vocabulary set with words\n",
    "        vocabulary.update(words)\n",
    "    \n",
    "        # Add the sentiment label to the vocabulary\n",
    "        vocabulary.add(row['sentiment'])\n",
    "\n",
    "    vocabulary = {word for word in vocabulary if \"http\" not in word}\n",
    "    vocabulary = {word for word in vocabulary if \"apple\" not in word}\n",
    "    return vocabulary"
   ]
  },
  {
   "cell_type": "code",
   "execution_count": 158,
   "id": "55e8490f-4f3f-4579-8515-860c08dc2555",
   "metadata": {
    "tags": []
   },
   "outputs": [],
   "source": [
    "def create_document_term_matrix(data, vocabulary_list):\n",
    "\n",
    "    document_word_counts = []\n",
    "    \n",
    "    for _, row in data.iterrows():\n",
    "        document = str(row['selected_text']).lower()\n",
    "        word_counts = {word: document.count(word) for word in vocabulary_list}\n",
    "        document_word_counts.append(word_counts)\n",
    "\n",
    "    # Create a DataFrame from the list of dictionaries\n",
    "    document_term_matrix = pd.DataFrame(document_word_counts)\n",
    "    document_term_matrix.index = range(1, len(document_term_matrix) + 1)\n",
    "    document_term_matrix = document_term_matrix.fillna(0)  # Fill NaN values with 0\n",
    "    return document_term_matrix"
   ]
  },
  {
   "cell_type": "code",
   "execution_count": 159,
   "id": "8d6472a6-0348-4859-8ff3-ecb997588c46",
   "metadata": {
    "tags": []
   },
   "outputs": [],
   "source": [
    "def combine_two_data_frames(df1, df2):\n",
    "    df2.reset_index(drop=True, inplace=True)\n",
    "    df1.reset_index(drop=True, inplace=True)\n",
    "\n",
    "    # Combine the two DataFrames horizontally\n",
    "    combined_df = pd.concat([df1, df2], axis=1)\n",
    "    #combined_df = combined_df[combined_df['sentiment'] != \"not_relevant\"]\n",
    "\n",
    "    # Reset the index of the DataFrame\n",
    "    combined_df.reset_index(drop=True, inplace=True)\n",
    "    return combined_df"
   ]
  },
  {
   "cell_type": "code",
   "execution_count": 160,
   "id": "1c4bc05d-12c4-47b1-80cd-648d13e36fc7",
   "metadata": {
    "tags": []
   },
   "outputs": [],
   "source": [
    "def check_text_with_document_term_matrix(row_index):\n",
    "\n",
    "    # Check if the specified row contains '1.0' and print the corresponding column names\n",
    "    value_to_check = 1.0\n",
    "    columns_with_1 = combined_df.columns[combined_df.iloc[row_index] == value_to_check].tolist()\n",
    "\n",
    "    print(combined_df.loc[row_index, 'selected_text'])\n",
    "    print(combined_df.loc[row_index, 'sentiment'])\n",
    "    print(columns_with_1)"
   ]
  },
  {
   "cell_type": "code",
   "execution_count": 161,
   "id": "cc938534-a759-4562-b11d-42fa3c753555",
   "metadata": {
    "tags": []
   },
   "outputs": [
    {
     "name": "stdout",
     "output_type": "stream",
     "text": [
      "(27481, 4)\n",
      "Index(['selected_text', 'sentiment', 'text', 'selectedtext'], dtype='object', name=0)\n"
     ]
    }
   ],
   "source": [
    "print(data.shape)\n",
    "print(data.columns)\n",
    "#vocabulary_list = create_vocabulary_list(data)\n",
    "#print(vocabulary_list)\n"
   ]
  },
  {
   "cell_type": "code",
   "execution_count": 162,
   "id": "6021510e-40c1-445b-93b8-d98cb6ca5501",
   "metadata": {
    "tags": []
   },
   "outputs": [],
   "source": [
    "document_term_matrix = create_document_term_matrix(data, data)"
   ]
  },
  {
   "cell_type": "code",
   "execution_count": 163,
   "id": "9e50c708-ea3d-4f4d-9af4-9928c7ee0d8d",
   "metadata": {
    "tags": []
   },
   "outputs": [],
   "source": [
    "combined_df = combine_two_data_frames(data, document_term_matrix)"
   ]
  },
  {
   "cell_type": "code",
   "execution_count": 164,
   "id": "4702ac4e-62be-4db0-b06f-e4beab8becc4",
   "metadata": {
    "tags": []
   },
   "outputs": [
    {
     "name": "stdout",
     "output_type": "stream",
     "text": [
      "selected_text    thank you!\n",
      "selected_text             0\n",
      "Name: 2700, dtype: object\n",
      "sentiment    5\n",
      "sentiment    0\n",
      "Name: 2700, dtype: object\n",
      "[]\n"
     ]
    }
   ],
   "source": [
    "check_text_with_document_term_matrix(2700)"
   ]
  },
  {
   "cell_type": "code",
   "execution_count": 202,
   "id": "e6c82f94-6003-4f89-81c3-814daebe10e2",
   "metadata": {
    "tags": []
   },
   "outputs": [],
   "source": [
    "\n",
    "data['selected_text'] = data['selected_text'].fillna('')\n",
    "data['selected_text'] = data['selected_text'].str.lower()\n",
    "data['selected_text'] = data['selected_text'].str.replace(r'http\\S+', '', regex=True)\n",
    "data['selected_text'] = data['selected_text'].str.replace(r'@\\S+', '', regex=True)\n",
    "# Initialize the TF-IDF vectorizer\n",
    "tfidf_vectorizer = TfidfVectorizer()\n",
    "\n",
    "# Fit and transform your text data\n",
    "X_tfidf = tfidf_vectorizer.fit_transform(data['selected_text'])\n",
    "\n",
    "# Extract the target variable\n",
    "y_tfidf = combined_df['sentiment']"
   ]
  },
  {
   "cell_type": "code",
   "execution_count": 203,
   "id": "38206191-2395-427e-b99b-2dc05269f378",
   "metadata": {
    "tags": []
   },
   "outputs": [
    {
     "name": "stdout",
     "output_type": "stream",
     "text": [
      "  (0, 6656)\t0.3312403320198644\n",
      "  (0, 16465)\t0.41075998662464747\n",
      "  (0, 7759)\t0.35597780136132173\n",
      "  (0, 12580)\t0.7193416462519464\n",
      "  (0, 7178)\t0.27817885745862886\n",
      "  (1, 12919)\t0.589421757631626\n",
      "  (1, 13939)\t0.8078254710210891\n",
      "  (2, 9597)\t0.3489969131070613\n",
      "  (2, 2733)\t0.9371238736910624\n",
      "  (3, 1141)\t0.6876878173956416\n",
      "  (3, 8854)\t0.6290033939584784\n",
      "  (3, 9597)\t0.36254681931349764\n",
      "  (4, 2227)\t0.7181516311378029\n",
      "  (4, 10699)\t0.2655861195531317\n",
      "  (4, 13930)\t0.6432124437499811\n",
      "  (5, 5112)\t0.36871930314746504\n",
      "  (5, 10788)\t0.16206547390543838\n",
      "  (5, 6154)\t0.4136081303636353\n",
      "  (5, 12214)\t0.4136081303636353\n",
      "  (5, 2120)\t0.2368358251649198\n",
      "  (5, 15018)\t0.12106135557604211\n",
      "  (5, 6103)\t0.15368803777869333\n",
      "  (5, 11582)\t0.4136081303636353\n",
      "  (5, 13333)\t0.4301752608861956\n",
      "  (5, 13901)\t0.21248052432003875\n",
      "  :\t:\n",
      "  (27474, 5808)\t0.49258246191343236\n",
      "  (27475, 5336)\t1.0\n",
      "  (27476, 9193)\t1.0\n",
      "  (27477, 6107)\t0.8806999843895871\n",
      "  (27477, 4847)\t0.4736745058541583\n",
      "  (27478, 6671)\t0.33867461855160996\n",
      "  (27478, 16933)\t0.5219229396179443\n",
      "  (27478, 17040)\t0.2815307370207509\n",
      "  (27478, 2474)\t0.5779109310406706\n",
      "  (27478, 6103)\t0.3104550873048993\n",
      "  (27478, 10699)\t0.3213611465504982\n",
      "  (27479, 16802)\t0.6368151918935109\n",
      "  (27479, 2787)\t0.3456537013392956\n",
      "  (27479, 8115)\t0.5770200986784594\n",
      "  (27479, 16316)\t0.37687894057001514\n",
      "  (27480, 1588)\t0.4722113725430026\n",
      "  (27480, 6008)\t0.4722113725430026\n",
      "  (27480, 13785)\t0.41602205916742246\n",
      "  (27480, 7642)\t0.34785436288247434\n",
      "  (27480, 16933)\t0.2836211945281568\n",
      "  (27480, 1109)\t0.20325664285958583\n",
      "  (27480, 15073)\t0.2039877938885232\n",
      "  (27480, 10788)\t0.1779022803800084\n",
      "  (27480, 15018)\t0.13289129821345758\n",
      "  (27480, 6656)\t0.21744250821523575\n",
      "['3' '1' '1' ... '5' '5' '3']\n"
     ]
    }
   ],
   "source": [
    "#X = X.iloc[:, :1]\n",
    "y = y_tfidf[\"sentiment\"].iloc[:,:1]\n",
    "y = np.array(data['sentiment'])\n",
    "y = y.ravel()\n",
    "print(X_tfidf)\n",
    "print(y)\n"
   ]
  },
  {
   "cell_type": "code",
   "execution_count": 204,
   "id": "f0ab9d27-3cd9-427c-9e5d-5e3d90846be1",
   "metadata": {
    "tags": []
   },
   "outputs": [],
   "source": [
    "X_train, X_test, Y_train, Y_test = train_test_split(X_tfidf,y, test_size = 0.6)"
   ]
  },
  {
   "cell_type": "code",
   "execution_count": 205,
   "id": "82210005-723d-4e77-a9bd-c8d0115a738b",
   "metadata": {
    "tags": []
   },
   "outputs": [
    {
     "data": {
      "text/html": [
       "<style>#sk-container-id-8 {color: black;background-color: white;}#sk-container-id-8 pre{padding: 0;}#sk-container-id-8 div.sk-toggleable {background-color: white;}#sk-container-id-8 label.sk-toggleable__label {cursor: pointer;display: block;width: 100%;margin-bottom: 0;padding: 0.3em;box-sizing: border-box;text-align: center;}#sk-container-id-8 label.sk-toggleable__label-arrow:before {content: \"▸\";float: left;margin-right: 0.25em;color: #696969;}#sk-container-id-8 label.sk-toggleable__label-arrow:hover:before {color: black;}#sk-container-id-8 div.sk-estimator:hover label.sk-toggleable__label-arrow:before {color: black;}#sk-container-id-8 div.sk-toggleable__content {max-height: 0;max-width: 0;overflow: hidden;text-align: left;background-color: #f0f8ff;}#sk-container-id-8 div.sk-toggleable__content pre {margin: 0.2em;color: black;border-radius: 0.25em;background-color: #f0f8ff;}#sk-container-id-8 input.sk-toggleable__control:checked~div.sk-toggleable__content {max-height: 200px;max-width: 100%;overflow: auto;}#sk-container-id-8 input.sk-toggleable__control:checked~label.sk-toggleable__label-arrow:before {content: \"▾\";}#sk-container-id-8 div.sk-estimator input.sk-toggleable__control:checked~label.sk-toggleable__label {background-color: #d4ebff;}#sk-container-id-8 div.sk-label input.sk-toggleable__control:checked~label.sk-toggleable__label {background-color: #d4ebff;}#sk-container-id-8 input.sk-hidden--visually {border: 0;clip: rect(1px 1px 1px 1px);clip: rect(1px, 1px, 1px, 1px);height: 1px;margin: -1px;overflow: hidden;padding: 0;position: absolute;width: 1px;}#sk-container-id-8 div.sk-estimator {font-family: monospace;background-color: #f0f8ff;border: 1px dotted black;border-radius: 0.25em;box-sizing: border-box;margin-bottom: 0.5em;}#sk-container-id-8 div.sk-estimator:hover {background-color: #d4ebff;}#sk-container-id-8 div.sk-parallel-item::after {content: \"\";width: 100%;border-bottom: 1px solid gray;flex-grow: 1;}#sk-container-id-8 div.sk-label:hover label.sk-toggleable__label {background-color: #d4ebff;}#sk-container-id-8 div.sk-serial::before {content: \"\";position: absolute;border-left: 1px solid gray;box-sizing: border-box;top: 0;bottom: 0;left: 50%;z-index: 0;}#sk-container-id-8 div.sk-serial {display: flex;flex-direction: column;align-items: center;background-color: white;padding-right: 0.2em;padding-left: 0.2em;position: relative;}#sk-container-id-8 div.sk-item {position: relative;z-index: 1;}#sk-container-id-8 div.sk-parallel {display: flex;align-items: stretch;justify-content: center;background-color: white;position: relative;}#sk-container-id-8 div.sk-item::before, #sk-container-id-8 div.sk-parallel-item::before {content: \"\";position: absolute;border-left: 1px solid gray;box-sizing: border-box;top: 0;bottom: 0;left: 50%;z-index: -1;}#sk-container-id-8 div.sk-parallel-item {display: flex;flex-direction: column;z-index: 1;position: relative;background-color: white;}#sk-container-id-8 div.sk-parallel-item:first-child::after {align-self: flex-end;width: 50%;}#sk-container-id-8 div.sk-parallel-item:last-child::after {align-self: flex-start;width: 50%;}#sk-container-id-8 div.sk-parallel-item:only-child::after {width: 0;}#sk-container-id-8 div.sk-dashed-wrapped {border: 1px dashed gray;margin: 0 0.4em 0.5em 0.4em;box-sizing: border-box;padding-bottom: 0.4em;background-color: white;}#sk-container-id-8 div.sk-label label {font-family: monospace;font-weight: bold;display: inline-block;line-height: 1.2em;}#sk-container-id-8 div.sk-label-container {text-align: center;}#sk-container-id-8 div.sk-container {/* jupyter's `normalize.less` sets `[hidden] { display: none; }` but bootstrap.min.css set `[hidden] { display: none !important; }` so we also need the `!important` here to be able to override the default hidden behavior on the sphinx rendered scikit-learn.org. See: https://github.com/scikit-learn/scikit-learn/issues/21755 */display: inline-block !important;position: relative;}#sk-container-id-8 div.sk-text-repr-fallback {display: none;}</style><div id=\"sk-container-id-8\" class=\"sk-top-container\"><div class=\"sk-text-repr-fallback\"><pre>MultinomialNB()</pre><b>In a Jupyter environment, please rerun this cell to show the HTML representation or trust the notebook. <br />On GitHub, the HTML representation is unable to render, please try loading this page with nbviewer.org.</b></div><div class=\"sk-container\" hidden><div class=\"sk-item\"><div class=\"sk-estimator sk-toggleable\"><input class=\"sk-toggleable__control sk-hidden--visually\" id=\"sk-estimator-id-8\" type=\"checkbox\" checked><label for=\"sk-estimator-id-8\" class=\"sk-toggleable__label sk-toggleable__label-arrow\">MultinomialNB</label><div class=\"sk-toggleable__content\"><pre>MultinomialNB()</pre></div></div></div></div></div>"
      ],
      "text/plain": [
       "MultinomialNB()"
      ]
     },
     "execution_count": 205,
     "metadata": {},
     "output_type": "execute_result"
    }
   ],
   "source": [
    "model = MultinomialNB()\n",
    "model.fit(X_train,Y_train)"
   ]
  },
  {
   "cell_type": "code",
   "execution_count": 206,
   "id": "58e9b7f5-b76d-449e-a3fc-af3788353a77",
   "metadata": {
    "tags": []
   },
   "outputs": [],
   "source": [
    "def analyze_sentiment(input_text):\n",
    "    # Preprocess the input text\n",
    "    input_text = input_text.lower()\n",
    "\n",
    "    # Transform the input text using the same TF-IDF vectorizer\n",
    "    input_tfidf = tfidf_vectorizer.transform([input_text])\n",
    "\n",
    "    # Predict the sentiment for the input text\n",
    "    predicted_sentiment = model.predict(input_tfidf)[0]\n",
    "\n",
    "    return predicted_sentiment"
   ]
  },
  {
   "cell_type": "code",
   "execution_count": 207,
   "id": "b6311e66-9c50-4f78-8238-6a7da01493f8",
   "metadata": {
    "tags": []
   },
   "outputs": [
    {
     "name": "stdout",
     "output_type": "stream",
     "text": [
      "              precision    recall  f1-score   support\n",
      "\n",
      "           1       0.93      0.52      0.66      4653\n",
      "           3       0.68      0.96      0.79      6778\n",
      "           5       0.86      0.74      0.79      5058\n",
      "\n",
      "    accuracy                           0.77     16489\n",
      "   macro avg       0.82      0.74      0.75     16489\n",
      "weighted avg       0.80      0.77      0.76     16489\n",
      "\n"
     ]
    }
   ],
   "source": [
    "y_pred = model.predict(X_test)\n",
    "from sklearn.metrics import classification_report\n",
    "classification = classification_report(Y_test,y_pred)\n",
    "print(classification)\n"
   ]
  },
  {
   "cell_type": "code",
   "execution_count": 208,
   "id": "7b1611ad-87dd-415f-b13d-1e1ca56b9b5d",
   "metadata": {
    "tags": []
   },
   "outputs": [
    {
     "data": {
      "image/png": "[encoded data removed]",
      "text/plain": [
       "<Figure size 800x600 with 2 Axes>"
      ]
     },
     "metadata": {},
     "output_type": "display_data"
    }
   ],
   "source": [
    "from sklearn.metrics import confusion_matrix\n",
    "import seaborn as sns\n",
    "import matplotlib.pyplot as plt\n",
    "\n",
    "# Create a confusion matrix\n",
    "conf_matrix = confusion_matrix(Y_test, y_pred)\n",
    "\n",
    "# Plot the confusion matrix using seaborn and matplotlib\n",
    "plt.figure(figsize=(8, 6))\n",
    "sns.heatmap(conf_matrix, annot=True, fmt='d', cmap='Blues', \n",
    "            xticklabels=['Negative', 'Neutral', 'Positive'], \n",
    "            yticklabels=['Negative', 'Neutral', 'Positive'])\n",
    "plt.xlabel('Predicted')\n",
    "plt.ylabel('Actual')\n",
    "plt.title('Confusion Matrix')\n",
    "plt.show()\n"
   ]
  },
  {
   "cell_type": "code",
   "execution_count": 201,
   "id": "9ad7559c-0b43-4d3f-86e9-876b5d1fdb96",
   "metadata": {
    "tags": []
   },
   "outputs": [
    {
     "data": {
      "text/plain": [
       "'3'"
      ]
     },
     "execution_count": 201,
     "metadata": {},
     "output_type": "execute_result"
    }
   ],
   "source": [
    "analyze_sentiment(\"i really want to buy apple\")\n",
    "\n"
   ]
  },
  {
   "cell_type": "code",
   "execution_count": null,
   "id": "3064c76f-7cb8-4cb9-8200-286a3c57542f",
   "metadata": {},
   "outputs": [],
   "source": []
  }
 ],
 "metadata": {
  "kernelspec": {
   "display_name": "Python 3",
   "language": "python",
   "name": "python3"
  },
  "language_info": {
   "codemirror_mode": {
    "name": "ipython",
    "version": 3
   },
   "file_extension": ".py",
   "mimetype": "text/x-python",
   "name": "python",
   "nbconvert_exporter": "python",
   "pygments_lexer": "ipython3",
   "version": "3.10.8"
  }
 },
 "nbformat": 4,
 "nbformat_minor": 5
}
