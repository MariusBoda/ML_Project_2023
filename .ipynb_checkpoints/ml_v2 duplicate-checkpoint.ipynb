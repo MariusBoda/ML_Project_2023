{
 "cells": [
  {
   "cell_type": "code",
<<<<<<< HEAD
   "execution_count": 63,
=======
   "execution_count": 1,
>>>>>>> 39eafbfd9e471d2f6b8e07b68cfc1afe0ce58782
   "id": "3cc62603-fb05-4f0d-98ed-867459b87e4d",
   "metadata": {
    "tags": []
   },
   "outputs": [],
   "source": [
    "import numpy as np                   \n",
    "import pandas as pd                  \n",
    "import matplotlib.pyplot as plt\n",
    "import string\n",
    "from sklearn.naive_bayes import MultinomialNB\n",
    "from sklearn.model_selection import train_test_split \n",
<<<<<<< HEAD
    "from sklearn.feature_extraction.text import TfidfVectorizer\n",
    "\n"
=======
    "from sklearn.feature_extraction.text import TfidfVectorizer"
>>>>>>> 39eafbfd9e471d2f6b8e07b68cfc1afe0ce58782
   ]
  },
  {
   "cell_type": "code",
<<<<<<< HEAD
   "execution_count": 12,
=======
   "execution_count": 4,
>>>>>>> 39eafbfd9e471d2f6b8e07b68cfc1afe0ce58782
   "id": "8506e46a-0771-49d8-bb97-97d4b7e52145",
   "metadata": {
    "tags": []
   },
   "outputs": [
    {
     "name": "stdout",
     "output_type": "stream",
     "text": [
      "Index(['selected_text', 'sentiment'], dtype='object', name=0)\n"
     ]
    }
   ],
   "source": [
    "# Read the CSV file into a DataFrame with header=None\n",
<<<<<<< HEAD
    "data = pd.read_csv(\"filtered_file.csv\", header=None)\n",
=======
    "data = pd.read_csv(\"filtered_file duplicate.csv\", header=None)\n",
>>>>>>> 39eafbfd9e471d2f6b8e07b68cfc1afe0ce58782
    "\n",
    "# Extract the first row as column names and remove it from the DataFrame\n",
    "column_names = data.iloc[0]\n",
    "data = data[1:]\n",
    "\n",
    "# Set the column names to the DataFrame\n",
    "data.columns = column_names\n",
    "print(data.columns)"
   ]
  },
  {
   "cell_type": "code",
<<<<<<< HEAD
   "execution_count": 13,
=======
   "execution_count": 5,
>>>>>>> 39eafbfd9e471d2f6b8e07b68cfc1afe0ce58782
   "id": "533fd7db-a6d3-4c9f-8761-104a30a7a4a1",
   "metadata": {
    "tags": []
   },
   "outputs": [
    {
     "name": "stdout",
     "output_type": "stream",
     "text": [
      "0                                          selected_text sentiment\n",
      "1                    I`d have responded, if I were going         3\n",
      "2                                               Sooo SAD         1\n",
      "3                                            bullying me         1\n",
      "4                                         leave me alone         1\n",
      "5                                       Sons of bitches,         1\n",
      "...                                                  ...       ...\n",
      "27477                                             d lost         1\n",
      "27478                                      , don`t force         1\n",
      "27479                          Yay good for both of you.         5\n",
      "27480                         But it was worth it  ****.         5\n",
      "27481  All this flirting going on - The ATG smiles. Y...         3\n",
      "\n",
      "[27481 rows x 2 columns]\n"
     ]
    }
   ],
   "source": [
<<<<<<< HEAD
    "\n",
=======
>>>>>>> 39eafbfd9e471d2f6b8e07b68cfc1afe0ce58782
    "print(data)"
   ]
  },
  {
   "cell_type": "code",
<<<<<<< HEAD
   "execution_count": 157,
=======
   "execution_count": 6,
>>>>>>> 39eafbfd9e471d2f6b8e07b68cfc1afe0ce58782
   "id": "54e52f7c-88fb-4d68-a6a8-6bda2ac25500",
   "metadata": {
    "tags": []
   },
   "outputs": [],
   "source": [
<<<<<<< HEAD
    "\n",
=======
>>>>>>> 39eafbfd9e471d2f6b8e07b68cfc1afe0ce58782
    "def create_vocabulary_list(data):\n",
    "    for index, row in data.iterrows():\n",
    "        # Split the text into words (assuming text is a string)\n",
    "        words = row['selected_text'].lower().split()\n",
    "    \n",
    "        # Update the vocabulary set with words\n",
    "        vocabulary.update(words)\n",
    "    \n",
    "        # Add the sentiment label to the vocabulary\n",
    "        vocabulary.add(row['sentiment'])\n",
    "\n",
    "    vocabulary = {word for word in vocabulary if \"http\" not in word}\n",
    "    vocabulary = {word for word in vocabulary if \"apple\" not in word}\n",
    "    return vocabulary"
   ]
  },
  {
   "cell_type": "code",
<<<<<<< HEAD
   "execution_count": 158,
=======
   "execution_count": 7,
>>>>>>> 39eafbfd9e471d2f6b8e07b68cfc1afe0ce58782
   "id": "55e8490f-4f3f-4579-8515-860c08dc2555",
   "metadata": {
    "tags": []
   },
   "outputs": [],
   "source": [
    "def create_document_term_matrix(data, vocabulary_list):\n",
    "\n",
    "    document_word_counts = []\n",
    "    \n",
    "    for _, row in data.iterrows():\n",
    "        document = str(row['selected_text']).lower()\n",
    "        word_counts = {word: document.count(word) for word in vocabulary_list}\n",
    "        document_word_counts.append(word_counts)\n",
    "\n",
    "    # Create a DataFrame from the list of dictionaries\n",
    "    document_term_matrix = pd.DataFrame(document_word_counts)\n",
    "    document_term_matrix.index = range(1, len(document_term_matrix) + 1)\n",
    "    document_term_matrix = document_term_matrix.fillna(0)  # Fill NaN values with 0\n",
    "    return document_term_matrix"
   ]
  },
  {
   "cell_type": "code",
<<<<<<< HEAD
   "execution_count": 159,
=======
   "execution_count": 8,
>>>>>>> 39eafbfd9e471d2f6b8e07b68cfc1afe0ce58782
   "id": "8d6472a6-0348-4859-8ff3-ecb997588c46",
   "metadata": {
    "tags": []
   },
   "outputs": [],
   "source": [
    "def combine_two_data_frames(df1, df2):\n",
    "    df2.reset_index(drop=True, inplace=True)\n",
    "    df1.reset_index(drop=True, inplace=True)\n",
    "\n",
    "    # Combine the two DataFrames horizontally\n",
    "    combined_df = pd.concat([df1, df2], axis=1)\n",
    "    #combined_df = combined_df[combined_df['sentiment'] != \"not_relevant\"]\n",
    "\n",
    "    # Reset the index of the DataFrame\n",
    "    combined_df.reset_index(drop=True, inplace=True)\n",
    "    return combined_df"
   ]
  },
  {
   "cell_type": "code",
<<<<<<< HEAD
   "execution_count": 160,
=======
   "execution_count": 9,
>>>>>>> 39eafbfd9e471d2f6b8e07b68cfc1afe0ce58782
   "id": "1c4bc05d-12c4-47b1-80cd-648d13e36fc7",
   "metadata": {
    "tags": []
   },
   "outputs": [],
   "source": [
    "def check_text_with_document_term_matrix(row_index):\n",
    "\n",
    "    # Check if the specified row contains '1.0' and print the corresponding column names\n",
    "    value_to_check = 1.0\n",
    "    columns_with_1 = combined_df.columns[combined_df.iloc[row_index] == value_to_check].tolist()\n",
    "\n",
    "    print(combined_df.loc[row_index, 'selected_text'])\n",
    "    print(combined_df.loc[row_index, 'sentiment'])\n",
    "    print(columns_with_1)"
   ]
  },
  {
   "cell_type": "code",
<<<<<<< HEAD
   "execution_count": 161,
=======
   "execution_count": 10,
>>>>>>> 39eafbfd9e471d2f6b8e07b68cfc1afe0ce58782
   "id": "cc938534-a759-4562-b11d-42fa3c753555",
   "metadata": {
    "tags": []
   },
   "outputs": [
    {
     "name": "stdout",
     "output_type": "stream",
     "text": [
<<<<<<< HEAD
      "(27481, 4)\n",
      "Index(['selected_text', 'sentiment', 'text', 'selectedtext'], dtype='object', name=0)\n"
=======
      "(27481, 2)\n",
      "Index(['selected_text', 'sentiment'], dtype='object', name=0)\n"
>>>>>>> 39eafbfd9e471d2f6b8e07b68cfc1afe0ce58782
     ]
    }
   ],
   "source": [
    "print(data.shape)\n",
    "print(data.columns)\n",
    "#vocabulary_list = create_vocabulary_list(data)\n",
    "#print(vocabulary_list)\n"
   ]
  },
  {
   "cell_type": "code",
<<<<<<< HEAD
   "execution_count": 162,
=======
   "execution_count": 11,
>>>>>>> 39eafbfd9e471d2f6b8e07b68cfc1afe0ce58782
   "id": "6021510e-40c1-445b-93b8-d98cb6ca5501",
   "metadata": {
    "tags": []
   },
   "outputs": [],
   "source": [
    "document_term_matrix = create_document_term_matrix(data, data)"
   ]
  },
  {
   "cell_type": "code",
<<<<<<< HEAD
   "execution_count": 163,
=======
   "execution_count": 12,
>>>>>>> 39eafbfd9e471d2f6b8e07b68cfc1afe0ce58782
   "id": "9e50c708-ea3d-4f4d-9af4-9928c7ee0d8d",
   "metadata": {
    "tags": []
   },
   "outputs": [],
   "source": [
    "combined_df = combine_two_data_frames(data, document_term_matrix)"
   ]
  },
  {
   "cell_type": "code",
<<<<<<< HEAD
   "execution_count": 164,
=======
   "execution_count": 13,
>>>>>>> 39eafbfd9e471d2f6b8e07b68cfc1afe0ce58782
   "id": "4702ac4e-62be-4db0-b06f-e4beab8becc4",
   "metadata": {
    "tags": []
   },
   "outputs": [
    {
     "name": "stdout",
     "output_type": "stream",
     "text": [
<<<<<<< HEAD
      "selected_text    thank you!\n",
=======
      "selected_text    Thank you!\n",
>>>>>>> 39eafbfd9e471d2f6b8e07b68cfc1afe0ce58782
      "selected_text             0\n",
      "Name: 2700, dtype: object\n",
      "sentiment    5\n",
      "sentiment    0\n",
      "Name: 2700, dtype: object\n",
      "[]\n"
     ]
    }
   ],
   "source": [
    "check_text_with_document_term_matrix(2700)"
   ]
  },
  {
   "cell_type": "code",
<<<<<<< HEAD
   "execution_count": 202,
=======
   "execution_count": 14,
>>>>>>> 39eafbfd9e471d2f6b8e07b68cfc1afe0ce58782
   "id": "e6c82f94-6003-4f89-81c3-814daebe10e2",
   "metadata": {
    "tags": []
   },
   "outputs": [],
   "source": [
    "\n",
    "data['selected_text'] = data['selected_text'].fillna('')\n",
    "data['selected_text'] = data['selected_text'].str.lower()\n",
    "data['selected_text'] = data['selected_text'].str.replace(r'http\\S+', '', regex=True)\n",
    "data['selected_text'] = data['selected_text'].str.replace(r'@\\S+', '', regex=True)\n",
    "# Initialize the TF-IDF vectorizer\n",
    "tfidf_vectorizer = TfidfVectorizer()\n",
    "\n",
    "# Fit and transform your text data\n",
    "X_tfidf = tfidf_vectorizer.fit_transform(data['selected_text'])\n",
    "\n",
    "# Extract the target variable\n",
    "y_tfidf = combined_df['sentiment']"
   ]
  },
  {
   "cell_type": "code",
<<<<<<< HEAD
   "execution_count": 203,
=======
   "execution_count": 15,
>>>>>>> 39eafbfd9e471d2f6b8e07b68cfc1afe0ce58782
   "id": "38206191-2395-427e-b99b-2dc05269f378",
   "metadata": {
    "tags": []
   },
   "outputs": [
    {
     "name": "stdout",
     "output_type": "stream",
     "text": [
      "  (0, 6656)\t0.3312403320198644\n",
      "  (0, 16465)\t0.41075998662464747\n",
      "  (0, 7759)\t0.35597780136132173\n",
      "  (0, 12580)\t0.7193416462519464\n",
      "  (0, 7178)\t0.27817885745862886\n",
      "  (1, 12919)\t0.589421757631626\n",
      "  (1, 13939)\t0.8078254710210891\n",
      "  (2, 9597)\t0.3489969131070613\n",
      "  (2, 2733)\t0.9371238736910624\n",
      "  (3, 1141)\t0.6876878173956416\n",
      "  (3, 8854)\t0.6290033939584784\n",
      "  (3, 9597)\t0.36254681931349764\n",
      "  (4, 2227)\t0.7181516311378029\n",
<<<<<<< HEAD
      "  (4, 10699)\t0.2655861195531317\n",
      "  (4, 13930)\t0.6432124437499811\n",
=======
      "  (4, 10699)\t0.26558611955313177\n",
      "  (4, 13930)\t0.6432124437499812\n",
>>>>>>> 39eafbfd9e471d2f6b8e07b68cfc1afe0ce58782
      "  (5, 5112)\t0.36871930314746504\n",
      "  (5, 10788)\t0.16206547390543838\n",
      "  (5, 6154)\t0.4136081303636353\n",
      "  (5, 12214)\t0.4136081303636353\n",
      "  (5, 2120)\t0.2368358251649198\n",
      "  (5, 15018)\t0.12106135557604211\n",
      "  (5, 6103)\t0.15368803777869333\n",
      "  (5, 11582)\t0.4136081303636353\n",
      "  (5, 13333)\t0.4301752608861956\n",
      "  (5, 13901)\t0.21248052432003875\n",
      "  :\t:\n",
      "  (27474, 5808)\t0.49258246191343236\n",
      "  (27475, 5336)\t1.0\n",
      "  (27476, 9193)\t1.0\n",
      "  (27477, 6107)\t0.8806999843895871\n",
      "  (27477, 4847)\t0.4736745058541583\n",
<<<<<<< HEAD
      "  (27478, 6671)\t0.33867461855160996\n",
      "  (27478, 16933)\t0.5219229396179443\n",
      "  (27478, 17040)\t0.2815307370207509\n",
      "  (27478, 2474)\t0.5779109310406706\n",
      "  (27478, 6103)\t0.3104550873048993\n",
      "  (27478, 10699)\t0.3213611465504982\n",
=======
      "  (27478, 6671)\t0.3386746185516099\n",
      "  (27478, 16933)\t0.5219229396179442\n",
      "  (27478, 17040)\t0.2815307370207509\n",
      "  (27478, 2474)\t0.5779109310406705\n",
      "  (27478, 6103)\t0.31045508730489924\n",
      "  (27478, 10699)\t0.32136114655049813\n",
>>>>>>> 39eafbfd9e471d2f6b8e07b68cfc1afe0ce58782
      "  (27479, 16802)\t0.6368151918935109\n",
      "  (27479, 2787)\t0.3456537013392956\n",
      "  (27479, 8115)\t0.5770200986784594\n",
      "  (27479, 16316)\t0.37687894057001514\n",
<<<<<<< HEAD
      "  (27480, 1588)\t0.4722113725430026\n",
      "  (27480, 6008)\t0.4722113725430026\n",
      "  (27480, 13785)\t0.41602205916742246\n",
      "  (27480, 7642)\t0.34785436288247434\n",
      "  (27480, 16933)\t0.2836211945281568\n",
      "  (27480, 1109)\t0.20325664285958583\n",
      "  (27480, 15073)\t0.2039877938885232\n",
      "  (27480, 10788)\t0.1779022803800084\n",
      "  (27480, 15018)\t0.13289129821345758\n",
      "  (27480, 6656)\t0.21744250821523575\n",
=======
      "  (27480, 1588)\t0.4722113725430027\n",
      "  (27480, 6008)\t0.4722113725430027\n",
      "  (27480, 13785)\t0.4160220591674225\n",
      "  (27480, 7642)\t0.3478543628824744\n",
      "  (27480, 16933)\t0.2836211945281569\n",
      "  (27480, 1109)\t0.20325664285958586\n",
      "  (27480, 15073)\t0.20398779388852323\n",
      "  (27480, 10788)\t0.17790228038000844\n",
      "  (27480, 15018)\t0.1328912982134576\n",
      "  (27480, 6656)\t0.21744250821523578\n",
>>>>>>> 39eafbfd9e471d2f6b8e07b68cfc1afe0ce58782
      "['3' '1' '1' ... '5' '5' '3']\n"
     ]
    }
   ],
   "source": [
    "#X = X.iloc[:, :1]\n",
    "y = y_tfidf[\"sentiment\"].iloc[:,:1]\n",
    "y = np.array(data['sentiment'])\n",
    "y = y.ravel()\n",
    "print(X_tfidf)\n",
<<<<<<< HEAD
    "print(y)\n"
=======
    "print(y)"
>>>>>>> 39eafbfd9e471d2f6b8e07b68cfc1afe0ce58782
   ]
  },
  {
   "cell_type": "code",
<<<<<<< HEAD
   "execution_count": 204,
=======
   "execution_count": 16,
>>>>>>> 39eafbfd9e471d2f6b8e07b68cfc1afe0ce58782
   "id": "f0ab9d27-3cd9-427c-9e5d-5e3d90846be1",
   "metadata": {
    "tags": []
   },
   "outputs": [],
   "source": [
    "X_train, X_test, Y_train, Y_test = train_test_split(X_tfidf,y, test_size = 0.6)"
   ]
  },
  {
   "cell_type": "code",
<<<<<<< HEAD
   "execution_count": 205,
=======
   "execution_count": 17,
>>>>>>> 39eafbfd9e471d2f6b8e07b68cfc1afe0ce58782
   "id": "82210005-723d-4e77-a9bd-c8d0115a738b",
   "metadata": {
    "tags": []
   },
   "outputs": [
    {
     "data": {
      "text/html": [
<<<<<<< HEAD
       "<style>#sk-container-id-8 {color: black;background-color: white;}#sk-container-id-8 pre{padding: 0;}#sk-container-id-8 div.sk-toggleable {background-color: white;}#sk-container-id-8 label.sk-toggleable__label {cursor: pointer;display: block;width: 100%;margin-bottom: 0;padding: 0.3em;box-sizing: border-box;text-align: center;}#sk-container-id-8 label.sk-toggleable__label-arrow:before {content: \"▸\";float: left;margin-right: 0.25em;color: #696969;}#sk-container-id-8 label.sk-toggleable__label-arrow:hover:before {color: black;}#sk-container-id-8 div.sk-estimator:hover label.sk-toggleable__label-arrow:before {color: black;}#sk-container-id-8 div.sk-toggleable__content {max-height: 0;max-width: 0;overflow: hidden;text-align: left;background-color: #f0f8ff;}#sk-container-id-8 div.sk-toggleable__content pre {margin: 0.2em;color: black;border-radius: 0.25em;background-color: #f0f8ff;}#sk-container-id-8 input.sk-toggleable__control:checked~div.sk-toggleable__content {max-height: 200px;max-width: 100%;overflow: auto;}#sk-container-id-8 input.sk-toggleable__control:checked~label.sk-toggleable__label-arrow:before {content: \"▾\";}#sk-container-id-8 div.sk-estimator input.sk-toggleable__control:checked~label.sk-toggleable__label {background-color: #d4ebff;}#sk-container-id-8 div.sk-label input.sk-toggleable__control:checked~label.sk-toggleable__label {background-color: #d4ebff;}#sk-container-id-8 input.sk-hidden--visually {border: 0;clip: rect(1px 1px 1px 1px);clip: rect(1px, 1px, 1px, 1px);height: 1px;margin: -1px;overflow: hidden;padding: 0;position: absolute;width: 1px;}#sk-container-id-8 div.sk-estimator {font-family: monospace;background-color: #f0f8ff;border: 1px dotted black;border-radius: 0.25em;box-sizing: border-box;margin-bottom: 0.5em;}#sk-container-id-8 div.sk-estimator:hover {background-color: #d4ebff;}#sk-container-id-8 div.sk-parallel-item::after {content: \"\";width: 100%;border-bottom: 1px solid gray;flex-grow: 1;}#sk-container-id-8 div.sk-label:hover label.sk-toggleable__label {background-color: #d4ebff;}#sk-container-id-8 div.sk-serial::before {content: \"\";position: absolute;border-left: 1px solid gray;box-sizing: border-box;top: 0;bottom: 0;left: 50%;z-index: 0;}#sk-container-id-8 div.sk-serial {display: flex;flex-direction: column;align-items: center;background-color: white;padding-right: 0.2em;padding-left: 0.2em;position: relative;}#sk-container-id-8 div.sk-item {position: relative;z-index: 1;}#sk-container-id-8 div.sk-parallel {display: flex;align-items: stretch;justify-content: center;background-color: white;position: relative;}#sk-container-id-8 div.sk-item::before, #sk-container-id-8 div.sk-parallel-item::before {content: \"\";position: absolute;border-left: 1px solid gray;box-sizing: border-box;top: 0;bottom: 0;left: 50%;z-index: -1;}#sk-container-id-8 div.sk-parallel-item {display: flex;flex-direction: column;z-index: 1;position: relative;background-color: white;}#sk-container-id-8 div.sk-parallel-item:first-child::after {align-self: flex-end;width: 50%;}#sk-container-id-8 div.sk-parallel-item:last-child::after {align-self: flex-start;width: 50%;}#sk-container-id-8 div.sk-parallel-item:only-child::after {width: 0;}#sk-container-id-8 div.sk-dashed-wrapped {border: 1px dashed gray;margin: 0 0.4em 0.5em 0.4em;box-sizing: border-box;padding-bottom: 0.4em;background-color: white;}#sk-container-id-8 div.sk-label label {font-family: monospace;font-weight: bold;display: inline-block;line-height: 1.2em;}#sk-container-id-8 div.sk-label-container {text-align: center;}#sk-container-id-8 div.sk-container {/* jupyter's `normalize.less` sets `[hidden] { display: none; }` but bootstrap.min.css set `[hidden] { display: none !important; }` so we also need the `!important` here to be able to override the default hidden behavior on the sphinx rendered scikit-learn.org. See: https://github.com/scikit-learn/scikit-learn/issues/21755 */display: inline-block !important;position: relative;}#sk-container-id-8 div.sk-text-repr-fallback {display: none;}</style><div id=\"sk-container-id-8\" class=\"sk-top-container\"><div class=\"sk-text-repr-fallback\"><pre>MultinomialNB()</pre><b>In a Jupyter environment, please rerun this cell to show the HTML representation or trust the notebook. <br />On GitHub, the HTML representation is unable to render, please try loading this page with nbviewer.org.</b></div><div class=\"sk-container\" hidden><div class=\"sk-item\"><div class=\"sk-estimator sk-toggleable\"><input class=\"sk-toggleable__control sk-hidden--visually\" id=\"sk-estimator-id-8\" type=\"checkbox\" checked><label for=\"sk-estimator-id-8\" class=\"sk-toggleable__label sk-toggleable__label-arrow\">MultinomialNB</label><div class=\"sk-toggleable__content\"><pre>MultinomialNB()</pre></div></div></div></div></div>"
=======
       "<style>#sk-container-id-1 {color: black;background-color: white;}#sk-container-id-1 pre{padding: 0;}#sk-container-id-1 div.sk-toggleable {background-color: white;}#sk-container-id-1 label.sk-toggleable__label {cursor: pointer;display: block;width: 100%;margin-bottom: 0;padding: 0.3em;box-sizing: border-box;text-align: center;}#sk-container-id-1 label.sk-toggleable__label-arrow:before {content: \"▸\";float: left;margin-right: 0.25em;color: #696969;}#sk-container-id-1 label.sk-toggleable__label-arrow:hover:before {color: black;}#sk-container-id-1 div.sk-estimator:hover label.sk-toggleable__label-arrow:before {color: black;}#sk-container-id-1 div.sk-toggleable__content {max-height: 0;max-width: 0;overflow: hidden;text-align: left;background-color: #f0f8ff;}#sk-container-id-1 div.sk-toggleable__content pre {margin: 0.2em;color: black;border-radius: 0.25em;background-color: #f0f8ff;}#sk-container-id-1 input.sk-toggleable__control:checked~div.sk-toggleable__content {max-height: 200px;max-width: 100%;overflow: auto;}#sk-container-id-1 input.sk-toggleable__control:checked~label.sk-toggleable__label-arrow:before {content: \"▾\";}#sk-container-id-1 div.sk-estimator input.sk-toggleable__control:checked~label.sk-toggleable__label {background-color: #d4ebff;}#sk-container-id-1 div.sk-label input.sk-toggleable__control:checked~label.sk-toggleable__label {background-color: #d4ebff;}#sk-container-id-1 input.sk-hidden--visually {border: 0;clip: rect(1px 1px 1px 1px);clip: rect(1px, 1px, 1px, 1px);height: 1px;margin: -1px;overflow: hidden;padding: 0;position: absolute;width: 1px;}#sk-container-id-1 div.sk-estimator {font-family: monospace;background-color: #f0f8ff;border: 1px dotted black;border-radius: 0.25em;box-sizing: border-box;margin-bottom: 0.5em;}#sk-container-id-1 div.sk-estimator:hover {background-color: #d4ebff;}#sk-container-id-1 div.sk-parallel-item::after {content: \"\";width: 100%;border-bottom: 1px solid gray;flex-grow: 1;}#sk-container-id-1 div.sk-label:hover label.sk-toggleable__label {background-color: #d4ebff;}#sk-container-id-1 div.sk-serial::before {content: \"\";position: absolute;border-left: 1px solid gray;box-sizing: border-box;top: 0;bottom: 0;left: 50%;z-index: 0;}#sk-container-id-1 div.sk-serial {display: flex;flex-direction: column;align-items: center;background-color: white;padding-right: 0.2em;padding-left: 0.2em;position: relative;}#sk-container-id-1 div.sk-item {position: relative;z-index: 1;}#sk-container-id-1 div.sk-parallel {display: flex;align-items: stretch;justify-content: center;background-color: white;position: relative;}#sk-container-id-1 div.sk-item::before, #sk-container-id-1 div.sk-parallel-item::before {content: \"\";position: absolute;border-left: 1px solid gray;box-sizing: border-box;top: 0;bottom: 0;left: 50%;z-index: -1;}#sk-container-id-1 div.sk-parallel-item {display: flex;flex-direction: column;z-index: 1;position: relative;background-color: white;}#sk-container-id-1 div.sk-parallel-item:first-child::after {align-self: flex-end;width: 50%;}#sk-container-id-1 div.sk-parallel-item:last-child::after {align-self: flex-start;width: 50%;}#sk-container-id-1 div.sk-parallel-item:only-child::after {width: 0;}#sk-container-id-1 div.sk-dashed-wrapped {border: 1px dashed gray;margin: 0 0.4em 0.5em 0.4em;box-sizing: border-box;padding-bottom: 0.4em;background-color: white;}#sk-container-id-1 div.sk-label label {font-family: monospace;font-weight: bold;display: inline-block;line-height: 1.2em;}#sk-container-id-1 div.sk-label-container {text-align: center;}#sk-container-id-1 div.sk-container {/* jupyter's `normalize.less` sets `[hidden] { display: none; }` but bootstrap.min.css set `[hidden] { display: none !important; }` so we also need the `!important` here to be able to override the default hidden behavior on the sphinx rendered scikit-learn.org. See: https://github.com/scikit-learn/scikit-learn/issues/21755 */display: inline-block !important;position: relative;}#sk-container-id-1 div.sk-text-repr-fallback {display: none;}</style><div id=\"sk-container-id-1\" class=\"sk-top-container\"><div class=\"sk-text-repr-fallback\"><pre>MultinomialNB()</pre><b>In a Jupyter environment, please rerun this cell to show the HTML representation or trust the notebook. <br />On GitHub, the HTML representation is unable to render, please try loading this page with nbviewer.org.</b></div><div class=\"sk-container\" hidden><div class=\"sk-item\"><div class=\"sk-estimator sk-toggleable\"><input class=\"sk-toggleable__control sk-hidden--visually\" id=\"sk-estimator-id-1\" type=\"checkbox\" checked><label for=\"sk-estimator-id-1\" class=\"sk-toggleable__label sk-toggleable__label-arrow\">MultinomialNB</label><div class=\"sk-toggleable__content\"><pre>MultinomialNB()</pre></div></div></div></div></div>"
>>>>>>> 39eafbfd9e471d2f6b8e07b68cfc1afe0ce58782
      ],
      "text/plain": [
       "MultinomialNB()"
      ]
     },
<<<<<<< HEAD
     "execution_count": 205,
=======
     "execution_count": 17,
>>>>>>> 39eafbfd9e471d2f6b8e07b68cfc1afe0ce58782
     "metadata": {},
     "output_type": "execute_result"
    }
   ],
   "source": [
    "model = MultinomialNB()\n",
    "model.fit(X_train,Y_train)"
   ]
  },
  {
   "cell_type": "code",
<<<<<<< HEAD
   "execution_count": 206,
=======
   "execution_count": 18,
>>>>>>> 39eafbfd9e471d2f6b8e07b68cfc1afe0ce58782
   "id": "58e9b7f5-b76d-449e-a3fc-af3788353a77",
   "metadata": {
    "tags": []
   },
   "outputs": [],
   "source": [
    "def analyze_sentiment(input_text):\n",
    "    # Preprocess the input text\n",
    "    input_text = input_text.lower()\n",
    "\n",
    "    # Transform the input text using the same TF-IDF vectorizer\n",
    "    input_tfidf = tfidf_vectorizer.transform([input_text])\n",
    "\n",
    "    # Predict the sentiment for the input text\n",
    "    predicted_sentiment = model.predict(input_tfidf)[0]\n",
    "\n",
    "    return predicted_sentiment"
   ]
  },
  {
   "cell_type": "code",
<<<<<<< HEAD
   "execution_count": 207,
=======
   "execution_count": 19,
>>>>>>> 39eafbfd9e471d2f6b8e07b68cfc1afe0ce58782
   "id": "b6311e66-9c50-4f78-8238-6a7da01493f8",
   "metadata": {
    "tags": []
   },
   "outputs": [
    {
     "name": "stdout",
     "output_type": "stream",
     "text": [
      "              precision    recall  f1-score   support\n",
      "\n",
<<<<<<< HEAD
      "           1       0.93      0.52      0.66      4653\n",
      "           3       0.68      0.96      0.79      6778\n",
      "           5       0.86      0.74      0.79      5058\n",
      "\n",
      "    accuracy                           0.77     16489\n",
      "   macro avg       0.82      0.74      0.75     16489\n",
      "weighted avg       0.80      0.77      0.76     16489\n",
=======
      "           1       0.94      0.51      0.66      4662\n",
      "           3       0.66      0.96      0.79      6667\n",
      "           5       0.87      0.72      0.79      5160\n",
      "\n",
      "    accuracy                           0.76     16489\n",
      "   macro avg       0.82      0.73      0.75     16489\n",
      "weighted avg       0.81      0.76      0.75     16489\n",
>>>>>>> 39eafbfd9e471d2f6b8e07b68cfc1afe0ce58782
      "\n"
     ]
    }
   ],
   "source": [
    "y_pred = model.predict(X_test)\n",
    "from sklearn.metrics import classification_report\n",
    "classification = classification_report(Y_test,y_pred)\n",
    "print(classification)\n"
   ]
  },
  {
   "cell_type": "code",
<<<<<<< HEAD
   "execution_count": 208,
=======
   "execution_count": 20,
>>>>>>> 39eafbfd9e471d2f6b8e07b68cfc1afe0ce58782
   "id": "7b1611ad-87dd-415f-b13d-1e1ca56b9b5d",
   "metadata": {
    "tags": []
   },
   "outputs": [
    {
     "data": {
<<<<<<< HEAD
      "image/png": "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",
=======
      "image/png": "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\n",
>>>>>>> 39eafbfd9e471d2f6b8e07b68cfc1afe0ce58782
      "text/plain": [
       "<Figure size 800x600 with 2 Axes>"
      ]
     },
     "metadata": {},
     "output_type": "display_data"
    }
   ],
   "source": [
    "from sklearn.metrics import confusion_matrix\n",
    "import seaborn as sns\n",
    "import matplotlib.pyplot as plt\n",
    "\n",
    "# Create a confusion matrix\n",
    "conf_matrix = confusion_matrix(Y_test, y_pred)\n",
    "\n",
    "# Plot the confusion matrix using seaborn and matplotlib\n",
    "plt.figure(figsize=(8, 6))\n",
    "sns.heatmap(conf_matrix, annot=True, fmt='d', cmap='Blues', \n",
    "            xticklabels=['Negative', 'Neutral', 'Positive'], \n",
    "            yticklabels=['Negative', 'Neutral', 'Positive'])\n",
    "plt.xlabel('Predicted')\n",
    "plt.ylabel('Actual')\n",
    "plt.title('Confusion Matrix')\n",
    "plt.show()\n"
   ]
  },
  {
   "cell_type": "code",
<<<<<<< HEAD
   "execution_count": 201,
=======
   "execution_count": 29,
>>>>>>> 39eafbfd9e471d2f6b8e07b68cfc1afe0ce58782
   "id": "9ad7559c-0b43-4d3f-86e9-876b5d1fdb96",
   "metadata": {
    "tags": []
   },
   "outputs": [
    {
     "data": {
      "text/plain": [
       "'3'"
      ]
     },
<<<<<<< HEAD
     "execution_count": 201,
=======
     "execution_count": 29,
>>>>>>> 39eafbfd9e471d2f6b8e07b68cfc1afe0ce58782
     "metadata": {},
     "output_type": "execute_result"
    }
   ],
   "source": [
<<<<<<< HEAD
    "analyze_sentiment(\"i really want to buy apple\")\n",
    "\n"
=======
    "analyze_sentiment(\"fuck you\")"
>>>>>>> 39eafbfd9e471d2f6b8e07b68cfc1afe0ce58782
   ]
  },
  {
   "cell_type": "code",
   "execution_count": null,
   "id": "3064c76f-7cb8-4cb9-8200-286a3c57542f",
   "metadata": {},
   "outputs": [],
   "source": []
  }
 ],
 "metadata": {
  "kernelspec": {
<<<<<<< HEAD
   "display_name": "Python 3",
=======
   "display_name": "Python 3 (ipykernel)",
>>>>>>> 39eafbfd9e471d2f6b8e07b68cfc1afe0ce58782
   "language": "python",
   "name": "python3"
  },
  "language_info": {
   "codemirror_mode": {
    "name": "ipython",
    "version": 3
   },
   "file_extension": ".py",
   "mimetype": "text/x-python",
   "name": "python",
   "nbconvert_exporter": "python",
   "pygments_lexer": "ipython3",
<<<<<<< HEAD
   "version": "3.10.8"
=======
   "version": "3.10.9"
>>>>>>> 39eafbfd9e471d2f6b8e07b68cfc1afe0ce58782
  }
 },
 "nbformat": 4,
 "nbformat_minor": 5
}
