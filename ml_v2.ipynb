{
 "cells": [
  {
   "cell_type": "code",
   "execution_count": 1,
   "id": "3cc62603-fb05-4f0d-98ed-867459b87e4d",
   "metadata": {
    "tags": []
   },
   "outputs": [],
   "source": [
    "import numpy as np                   \n",
    "import pandas as pd                  \n",
    "import matplotlib.pyplot as plt\n",
    "\n",
    "from sklearn.naive_bayes import MultinomialNB\n",
    "from sklearn.model_selection import train_test_split\n",
    "model = MultinomialNB()"
   ]
  },
  {
   "cell_type": "code",
   "execution_count": 2,
   "id": "8506e46a-0771-49d8-bb97-97d4b7e52145",
   "metadata": {
    "tags": []
   },
   "outputs": [],
   "source": [
    "data = pd.read_csv(\"Apple-Twitter-Sentiment-DFE.csv\", sep=';', encoding='utf-8', header = 0)"
   ]
  },
  {
   "cell_type": "code",
   "execution_count": 3,
   "id": "533fd7db-a6d3-4c9f-8761-104a30a7a4a1",
   "metadata": {
    "tags": []
   },
   "outputs": [],
   "source": [
    "headers = data.iloc[0]\n",
    "data.columns = headers\n",
    "data = data.iloc[1:]"
   ]
  },
  {
   "cell_type": "code",
   "execution_count": 20,
   "id": "b83f21c1-07a3-42a7-a663-464a43b2b792",
   "metadata": {
    "tags": []
   },
   "outputs": [
    {
     "data": {
      "text/plain": [
       "(3886, 1)"
      ]
     },
     "execution_count": 20,
     "metadata": {},
     "output_type": "execute_result"
    }
   ],
   "source": [
    "filtered_data = pd.DataFrame()\n",
    "filtered_data['sentiment'] = data['sentiment']\n",
    "filtered_data['sentiment confidence'] = data['sentiment:confidence']\n",
    "filtered_data['text'] = data['text']\n",
    "text_data = pd.DataFrame({'text': filtered_data['text']})\n",
    "text_data.shape"
   ]
  },
  {
   "cell_type": "code",
   "execution_count": 5,
   "id": "54e52f7c-88fb-4d68-a6a8-6bda2ac25500",
   "metadata": {
    "tags": []
   },
   "outputs": [],
   "source": [
    "def create_vocabulary_list(data):\n",
    "    vocabulary = set()\n",
    "    for text in data['text']:\n",
    "        words = str(text).lower().split()\n",
    "        vocabulary.update(words)\n",
    "\n",
    "    vocabulary = {word for word in vocabulary if \"http://\" not in word}\n",
    "    vocabulary = {word for word in vocabulary if \"https\" not in word}\n",
    "    vocabulary = {word for word in vocabulary if \"@\" not in word}\n",
    "    return vocabulary"
   ]
  },
  {
   "cell_type": "code",
   "execution_count": 6,
   "id": "55e8490f-4f3f-4579-8515-860c08dc2555",
   "metadata": {
    "tags": []
   },
   "outputs": [],
   "source": [
    "def create_document_term_matrix(data, vocabulary_list):\n",
    "\n",
    "    document_word_counts = []\n",
    "    \n",
    "    for _, row in data.iterrows():\n",
    "        document = str(row['text']).lower()\n",
    "        word_counts = {word: document.count(word) for word in vocabulary_list}\n",
    "        document_word_counts.append(word_counts)\n",
    "\n",
    "    # Create a DataFrame from the list of dictionaries\n",
    "    document_term_matrix = pd.DataFrame(document_word_counts)\n",
    "    document_term_matrix.index = range(1, len(document_term_matrix) + 1)\n",
    "    document_term_matrix = document_term_matrix.fillna(0)  # Fill NaN values with 0\n",
    "    return document_term_matrix"
   ]
  },
  {
   "cell_type": "code",
   "execution_count": 7,
   "id": "8d6472a6-0348-4859-8ff3-ecb997588c46",
   "metadata": {
    "tags": []
   },
   "outputs": [],
   "source": [
    "def combine_two_data_frames(df1, df2):\n",
    "    df2.reset_index(drop=True, inplace=True)\n",
    "    df1.reset_index(drop=True, inplace=True)\n",
    "\n",
    "    # Combine the two DataFrames horizontally\n",
    "    combined_df = pd.concat([df1, df2], axis=1)\n",
    "    combined_df = combined_df[combined_df['sentiment'] != \"not_relevant\"]\n",
    "\n",
    "    # Reset the index of the DataFrame\n",
    "    combined_df.reset_index(drop=True, inplace=True)\n",
    "    return combined_df"
   ]
  },
  {
   "cell_type": "code",
   "execution_count": 8,
   "id": "1c4bc05d-12c4-47b1-80cd-648d13e36fc7",
   "metadata": {
    "tags": []
   },
   "outputs": [],
   "source": [
    "def check_text_with_document_term_matrix(row_index):\n",
    "\n",
    "    # Check if the specified row contains '1.0' and print the corresponding column names\n",
    "    value_to_check = 1.0\n",
    "    columns_with_1 = combined_df.columns[combined_df.iloc[row_index] == value_to_check].tolist()\n",
    "\n",
    "    print(combined_df.loc[row_index, 'text'])\n",
    "    print(combined_df.loc[row_index, 'sentiment'])\n",
    "    print(columns_with_1)"
   ]
  },
  {
   "cell_type": "code",
   "execution_count": 9,
   "id": "cc938534-a759-4562-b11d-42fa3c753555",
   "metadata": {
    "tags": []
   },
   "outputs": [],
   "source": [
    "vocabulary_list = create_vocabulary_list(text_data)"
   ]
  },
  {
   "cell_type": "code",
   "execution_count": 10,
   "id": "6021510e-40c1-445b-93b8-d98cb6ca5501",
   "metadata": {
    "tags": []
   },
   "outputs": [],
   "source": [
    "document_term_matrix = create_document_term_matrix(text_data, vocabulary_list)"
   ]
  },
  {
   "cell_type": "code",
   "execution_count": 11,
   "id": "9e50c708-ea3d-4f4d-9af4-9928c7ee0d8d",
   "metadata": {
    "tags": []
   },
   "outputs": [],
   "source": [
    "combined_df = combine_two_data_frames(filtered_data, document_term_matrix)"
   ]
  },
  {
   "cell_type": "code",
   "execution_count": 12,
   "id": "4702ac4e-62be-4db0-b06f-e4beab8becc4",
   "metadata": {
    "tags": []
   },
   "outputs": [
    {
     "name": "stdout",
     "output_type": "stream",
     "text": [
      "text    RT @JPDesloges: Why AAPL Stock Had a Mini-Flas...\n",
      "text                                                    0\n",
      "Name: 1, dtype: object\n",
      "3\n",
      "['today', 'ad', 'ck', 'ay', '.', '#aapl', 'fl', ':/', 'crash', 'day', '9', 'why', 'n', 'stock', 'flash', '#a', 'ha', 's:', 'log', 'min', 'in', 'st', 'ya', 'w', 'de', 'm', '$aapl', 'had', 'rt', 'da', '#', '-', '$', 'la', '//', 'mini-flash', '0', 'mini']\n"
     ]
    }
   ],
   "source": [
    "check_text_with_document_term_matrix(1)"
   ]
  },
  {
   "cell_type": "code",
   "execution_count": 13,
   "id": "37bdf9a1-f8d4-4850-b50b-75050e8c11ce",
   "metadata": {
    "tags": []
   },
   "outputs": [],
   "source": [
    "X = combined_df.iloc[:, 3:]\n",
    "y = combined_df['sentiment']"
   ]
  },
  {
   "cell_type": "code",
   "execution_count": 14,
   "id": "f0ab9d27-3cd9-427c-9e5d-5e3d90846be1",
   "metadata": {
    "tags": []
   },
   "outputs": [],
   "source": [
    "X_train, X_test, Y_train, Y_test = train_test_split(X,y, test_size = 0.5)"
   ]
  },
  {
   "cell_type": "code",
   "execution_count": 15,
   "id": "82210005-723d-4e77-a9bd-c8d0115a738b",
   "metadata": {
    "tags": []
   },
   "outputs": [
    {
     "data": {
      "text/html": [
       "<style>#sk-container-id-1 {color: black;background-color: white;}#sk-container-id-1 pre{padding: 0;}#sk-container-id-1 div.sk-toggleable {background-color: white;}#sk-container-id-1 label.sk-toggleable__label {cursor: pointer;display: block;width: 100%;margin-bottom: 0;padding: 0.3em;box-sizing: border-box;text-align: center;}#sk-container-id-1 label.sk-toggleable__label-arrow:before {content: \"▸\";float: left;margin-right: 0.25em;color: #696969;}#sk-container-id-1 label.sk-toggleable__label-arrow:hover:before {color: black;}#sk-container-id-1 div.sk-estimator:hover label.sk-toggleable__label-arrow:before {color: black;}#sk-container-id-1 div.sk-toggleable__content {max-height: 0;max-width: 0;overflow: hidden;text-align: left;background-color: #f0f8ff;}#sk-container-id-1 div.sk-toggleable__content pre {margin: 0.2em;color: black;border-radius: 0.25em;background-color: #f0f8ff;}#sk-container-id-1 input.sk-toggleable__control:checked~div.sk-toggleable__content {max-height: 200px;max-width: 100%;overflow: auto;}#sk-container-id-1 input.sk-toggleable__control:checked~label.sk-toggleable__label-arrow:before {content: \"▾\";}#sk-container-id-1 div.sk-estimator input.sk-toggleable__control:checked~label.sk-toggleable__label {background-color: #d4ebff;}#sk-container-id-1 div.sk-label input.sk-toggleable__control:checked~label.sk-toggleable__label {background-color: #d4ebff;}#sk-container-id-1 input.sk-hidden--visually {border: 0;clip: rect(1px 1px 1px 1px);clip: rect(1px, 1px, 1px, 1px);height: 1px;margin: -1px;overflow: hidden;padding: 0;position: absolute;width: 1px;}#sk-container-id-1 div.sk-estimator {font-family: monospace;background-color: #f0f8ff;border: 1px dotted black;border-radius: 0.25em;box-sizing: border-box;margin-bottom: 0.5em;}#sk-container-id-1 div.sk-estimator:hover {background-color: #d4ebff;}#sk-container-id-1 div.sk-parallel-item::after {content: \"\";width: 100%;border-bottom: 1px solid gray;flex-grow: 1;}#sk-container-id-1 div.sk-label:hover label.sk-toggleable__label {background-color: #d4ebff;}#sk-container-id-1 div.sk-serial::before {content: \"\";position: absolute;border-left: 1px solid gray;box-sizing: border-box;top: 0;bottom: 0;left: 50%;z-index: 0;}#sk-container-id-1 div.sk-serial {display: flex;flex-direction: column;align-items: center;background-color: white;padding-right: 0.2em;padding-left: 0.2em;position: relative;}#sk-container-id-1 div.sk-item {position: relative;z-index: 1;}#sk-container-id-1 div.sk-parallel {display: flex;align-items: stretch;justify-content: center;background-color: white;position: relative;}#sk-container-id-1 div.sk-item::before, #sk-container-id-1 div.sk-parallel-item::before {content: \"\";position: absolute;border-left: 1px solid gray;box-sizing: border-box;top: 0;bottom: 0;left: 50%;z-index: -1;}#sk-container-id-1 div.sk-parallel-item {display: flex;flex-direction: column;z-index: 1;position: relative;background-color: white;}#sk-container-id-1 div.sk-parallel-item:first-child::after {align-self: flex-end;width: 50%;}#sk-container-id-1 div.sk-parallel-item:last-child::after {align-self: flex-start;width: 50%;}#sk-container-id-1 div.sk-parallel-item:only-child::after {width: 0;}#sk-container-id-1 div.sk-dashed-wrapped {border: 1px dashed gray;margin: 0 0.4em 0.5em 0.4em;box-sizing: border-box;padding-bottom: 0.4em;background-color: white;}#sk-container-id-1 div.sk-label label {font-family: monospace;font-weight: bold;display: inline-block;line-height: 1.2em;}#sk-container-id-1 div.sk-label-container {text-align: center;}#sk-container-id-1 div.sk-container {/* jupyter's `normalize.less` sets `[hidden] { display: none; }` but bootstrap.min.css set `[hidden] { display: none !important; }` so we also need the `!important` here to be able to override the default hidden behavior on the sphinx rendered scikit-learn.org. See: https://github.com/scikit-learn/scikit-learn/issues/21755 */display: inline-block !important;position: relative;}#sk-container-id-1 div.sk-text-repr-fallback {display: none;}</style><div id=\"sk-container-id-1\" class=\"sk-top-container\"><div class=\"sk-text-repr-fallback\"><pre>MultinomialNB()</pre><b>In a Jupyter environment, please rerun this cell to show the HTML representation or trust the notebook. <br />On GitHub, the HTML representation is unable to render, please try loading this page with nbviewer.org.</b></div><div class=\"sk-container\" hidden><div class=\"sk-item\"><div class=\"sk-estimator sk-toggleable\"><input class=\"sk-toggleable__control sk-hidden--visually\" id=\"sk-estimator-id-1\" type=\"checkbox\" checked><label for=\"sk-estimator-id-1\" class=\"sk-toggleable__label sk-toggleable__label-arrow\">MultinomialNB</label><div class=\"sk-toggleable__content\"><pre>MultinomialNB()</pre></div></div></div></div></div>"
      ],
      "text/plain": [
       "MultinomialNB()"
      ]
     },
     "execution_count": 15,
     "metadata": {},
     "output_type": "execute_result"
    }
   ],
   "source": [
    "model.fit(X_train,Y_train)"
   ]
  },
  {
   "cell_type": "code",
   "execution_count": 16,
   "id": "b6311e66-9c50-4f78-8238-6a7da01493f8",
   "metadata": {
    "tags": []
   },
   "outputs": [
    {
     "name": "stdout",
     "output_type": "stream",
     "text": [
      "              precision    recall  f1-score   support\n",
      "\n",
      "           1       0.65      0.77      0.71       617\n",
      "           3       0.75      0.82      0.78      1066\n",
      "           5       0.81      0.06      0.11       219\n",
      "\n",
      "    accuracy                           0.71      1902\n",
      "   macro avg       0.74      0.55      0.53      1902\n",
      "weighted avg       0.73      0.71      0.68      1902\n",
      "\n"
     ]
    }
   ],
   "source": [
    "y_pred = model.predict(X_test)\n",
    "from sklearn.metrics import classification_report\n",
    "classification = classification_report(Y_test,y_pred)\n",
    "print(classification)"
   ]
  },
  {
   "cell_type": "code",
   "execution_count": null,
   "id": "f9debf44-5d7c-4000-98f5-083ca5fb32a9",
   "metadata": {
    "tags": []
   },
   "outputs": [],
   "source": []
  },
  {
   "cell_type": "code",
   "execution_count": null,
   "id": "9c75c1f4-3b9f-4545-ba62-2c486f8b679b",
   "metadata": {},
   "outputs": [],
   "source": []
  }
 ],
 "metadata": {
  "kernelspec": {
   "display_name": "Python 3",
   "language": "python",
   "name": "python3"
  },
  "language_info": {
   "codemirror_mode": {
    "name": "ipython",
    "version": 3
   },
   "file_extension": ".py",
   "mimetype": "text/x-python",
   "name": "python",
   "nbconvert_exporter": "python",
   "pygments_lexer": "ipython3",
   "version": "3.10.8"
  }
 },
 "nbformat": 4,
 "nbformat_minor": 5
}
