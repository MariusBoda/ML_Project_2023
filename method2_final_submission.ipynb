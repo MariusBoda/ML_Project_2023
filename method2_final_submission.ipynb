{
 "cells": [
  {
   "cell_type": "code",
   "execution_count": 1,
   "id": "59563a6e-3994-4e8e-b0fd-446bda48ee51",
   "metadata": {
    "tags": []
   },
   "outputs": [],
   "source": [
    "import pandas as pd\n",
    "import numpy as np\n",
    "\n",
    "from sklearn.feature_extraction.text import TfidfVectorizer\n",
    "from sklearn.neural_network import MLPClassifier\n",
    "from sklearn.datasets import make_classification\n",
    "from sklearn.model_selection import train_test_split\n",
    "from sklearn.metrics import accuracy_score, classification_report\n",
    "from sklearn.metrics import log_loss"
   ]
  },
  {
   "cell_type": "code",
   "execution_count": 2,
   "id": "b2eee5c6-9eca-4a7f-9129-5a3bd599ac54",
   "metadata": {
    "tags": []
   },
   "outputs": [
    {
     "data": {
      "text/html": [
       "<div>\n",
       "<style scoped>\n",
       "    .dataframe tbody tr th:only-of-type {\n",
       "        vertical-align: middle;\n",
       "    }\n",
       "\n",
       "    .dataframe tbody tr th {\n",
       "        vertical-align: top;\n",
       "    }\n",
       "\n",
       "    .dataframe thead th {\n",
       "        text-align: right;\n",
       "    }\n",
       "</style>\n",
       "<table border=\"1\" class=\"dataframe\">\n",
       "  <thead>\n",
       "    <tr style=\"text-align: right;\">\n",
       "      <th></th>\n",
       "      <th>selected_text</th>\n",
       "      <th>sentiment</th>\n",
       "    </tr>\n",
       "  </thead>\n",
       "  <tbody>\n",
       "    <tr>\n",
       "      <th>1</th>\n",
       "      <td>#AAPL:The 10 best Steve Jobs emails ever...htt...</td>\n",
       "      <td>3</td>\n",
       "    </tr>\n",
       "    <tr>\n",
       "      <th>2</th>\n",
       "      <td>RT @JPDesloges: Why AAPL Stock Had a Mini-Flas...</td>\n",
       "      <td>3</td>\n",
       "    </tr>\n",
       "    <tr>\n",
       "      <th>3</th>\n",
       "      <td>My cat only chews @apple cords. Such an #Apple...</td>\n",
       "      <td>3</td>\n",
       "    </tr>\n",
       "    <tr>\n",
       "      <th>4</th>\n",
       "      <td>I agree with @jimcramer that the #IndividualIn...</td>\n",
       "      <td>3</td>\n",
       "    </tr>\n",
       "    <tr>\n",
       "      <th>5</th>\n",
       "      <td>Nobody expects the Spanish Inquisition #AAPL</td>\n",
       "      <td>3</td>\n",
       "    </tr>\n",
       "    <tr>\n",
       "      <th>...</th>\n",
       "      <td>...</td>\n",
       "      <td>...</td>\n",
       "    </tr>\n",
       "    <tr>\n",
       "      <th>3882</th>\n",
       "      <td>(Via FC) Apple Is Warming Up To Social Media -...</td>\n",
       "      <td>3</td>\n",
       "    </tr>\n",
       "    <tr>\n",
       "      <th>3883</th>\n",
       "      <td>RT @MMLXIV: there is no avocado emoji may I as...</td>\n",
       "      <td>3</td>\n",
       "    </tr>\n",
       "    <tr>\n",
       "      <th>3884</th>\n",
       "      <td>@marcbulandr I could not agree more. Between @...</td>\n",
       "      <td>5</td>\n",
       "    </tr>\n",
       "    <tr>\n",
       "      <th>3885</th>\n",
       "      <td>My iPhone 5's photos are no longer downloading...</td>\n",
       "      <td>1</td>\n",
       "    </tr>\n",
       "    <tr>\n",
       "      <th>3886</th>\n",
       "      <td>RT @SwiftKey: We're so excited to be named to ...</td>\n",
       "      <td>5</td>\n",
       "    </tr>\n",
       "  </tbody>\n",
       "</table>\n",
       "<p>3886 rows × 2 columns</p>\n",
       "</div>"
      ],
      "text/plain": [
       "                                          selected_text sentiment\n",
       "1     #AAPL:The 10 best Steve Jobs emails ever...htt...         3\n",
       "2     RT @JPDesloges: Why AAPL Stock Had a Mini-Flas...         3\n",
       "3     My cat only chews @apple cords. Such an #Apple...         3\n",
       "4     I agree with @jimcramer that the #IndividualIn...         3\n",
       "5          Nobody expects the Spanish Inquisition #AAPL         3\n",
       "...                                                 ...       ...\n",
       "3882  (Via FC) Apple Is Warming Up To Social Media -...         3\n",
       "3883  RT @MMLXIV: there is no avocado emoji may I as...         3\n",
       "3884  @marcbulandr I could not agree more. Between @...         5\n",
       "3885  My iPhone 5's photos are no longer downloading...         1\n",
       "3886  RT @SwiftKey: We're so excited to be named to ...         5\n",
       "\n",
       "[3886 rows x 2 columns]"
      ]
     },
     "execution_count": 2,
     "metadata": {},
     "output_type": "execute_result"
    }
   ],
   "source": [
    "data = pd.read_csv(\"Apple-Twitter-Sentiment-DFE.csv\", sep=';', encoding='utf-8', header = 0)\n",
    "headers = data.iloc[0]\n",
    "data.columns = headers\n",
    "data = data.iloc[1:]\n",
    "filtered_data = pd.DataFrame()\n",
    "filtered_data['selected_text'] = data['text']\n",
    "filtered_data['sentiment'] = data['sentiment']\n",
    "data = filtered_data\n",
    "data.head(10000)"
   ]
  },
  {
   "cell_type": "code",
   "execution_count": 3,
   "id": "14436da4-045d-4006-87c3-4dca78744931",
   "metadata": {
    "tags": []
   },
   "outputs": [
    {
     "name": "stdout",
     "output_type": "stream",
     "text": [
      "['3' '5' '1' 'not_relevant']\n"
     ]
    }
   ],
   "source": [
    "# Check unique values in the 'sentiment' column\n",
    "unique_sentiments = data['sentiment'].unique()\n",
    "print(unique_sentiments)\n",
    "\n",
    "# If 'not_relevant' is present, remove those rows or replace it with a valid integer label\n",
    "data = data[data['sentiment'] != 'not_relevant']"
   ]
  },
  {
   "cell_type": "code",
   "execution_count": 4,
   "id": "53223af3-fbb9-42b5-acd4-d07658a9ce55",
   "metadata": {
    "tags": []
   },
   "outputs": [
    {
     "name": "stderr",
     "output_type": "stream",
     "text": [
      "/tmp/ipykernel_767/892366906.py:1: SettingWithCopyWarning: \n",
      "A value is trying to be set on a copy of a slice from a DataFrame.\n",
      "Try using .loc[row_indexer,col_indexer] = value instead\n",
      "\n",
      "See the caveats in the documentation: https://pandas.pydata.org/pandas-docs/stable/user_guide/indexing.html#returning-a-view-versus-a-copy\n",
      "  data['sentiment'] = data['sentiment'].astype(str).str.extract('(\\d+)', expand=False).astype(float)\n"
     ]
    }
   ],
   "source": [
    "data['sentiment'] = data['sentiment'].astype(str).str.extract('(\\d+)', expand=False).astype(float)\n",
    "\n",
    "# Filter rows for each sentiment\n",
    "sentiment_1 = data[data['sentiment'] == 1]\n",
    "sentiment_3 = data[data['sentiment'] == 3]\n",
    "sentiment_5 = data[data['sentiment'] == 5]\n",
    "\n",
    "# Use the total number of rows for each sentiment as the sample size\n",
    "sample_size = 400\n",
    "\n",
    "# Sample rows for each sentiment\n",
    "sampled_sentiment_1 = sentiment_1.sample(n=sample_size, random_state=42)\n",
    "sampled_sentiment_3 = sentiment_3.sample(n=sample_size, random_state=42)\n",
    "sampled_sentiment_5 = sentiment_5.sample(n=sample_size, random_state=42)\n",
    "\n",
    "# Concatenate the sampled DataFrames to create the new DataFrame\n",
    "new_df = pd.concat([sampled_sentiment_1, sampled_sentiment_3, sampled_sentiment_5])\n",
    "\n",
    "# Optional: Reset the index of the new DataFrame\n",
    "new_df = new_df.reset_index(drop=True)"
   ]
  },
  {
   "cell_type": "code",
   "execution_count": 5,
   "id": "07ac1821-4305-4c80-ab7f-cf1179f3fc49",
   "metadata": {
    "tags": []
   },
   "outputs": [],
   "source": [
    "data = new_df"
   ]
  },
  {
   "cell_type": "code",
   "execution_count": 6,
   "id": "109fb5ae-ed92-41b3-8184-07c838662123",
   "metadata": {
    "tags": []
   },
   "outputs": [],
   "source": [
    "# Split the data into training (80%), validation (20%)\n",
    "train_data, test_data, train_labels, test_labels = train_test_split(\n",
    "    data['selected_text'], data['sentiment'], test_size=0.2, random_state=42)"
   ]
  },
  {
   "cell_type": "code",
   "execution_count": 7,
   "id": "2f3a8df5-6c55-444c-b61c-b88c9e19274c",
   "metadata": {
    "tags": []
   },
   "outputs": [],
   "source": [
    "# Vectorize the training, validation, and test data\n",
    "tfidf_vectorizer = TfidfVectorizer(max_features=5000, stop_words='english')\n",
    "\n",
    "train_features = tfidf_vectorizer.fit_transform(train_data)\n",
    "test_features = tfidf_vectorizer.transform(test_data)"
   ]
  },
  {
   "cell_type": "code",
   "execution_count": 8,
   "id": "1a8eba7e-b472-433f-ba2e-3ffde58644f7",
   "metadata": {
    "tags": []
   },
   "outputs": [
    {
     "name": "stdout",
     "output_type": "stream",
     "text": [
      "Test Accuracy: 0.67\n",
      "Test Classification Report:\n",
      "1.1196981461644262\n",
      "              precision    recall  f1-score   support\n",
      "\n",
      "         1.0       0.78      0.67      0.72        87\n",
      "         3.0       0.53      0.66      0.59        73\n",
      "         5.0       0.73      0.69      0.71        80\n",
      "\n",
      "    accuracy                           0.67       240\n",
      "   macro avg       0.68      0.67      0.67       240\n",
      "weighted avg       0.69      0.67      0.68       240\n",
      "\n"
     ]
    }
   ],
   "source": [
    "X, y = make_classification(n_samples=100, random_state=1)\n",
    "X_train, X_test, y_train, y_test = train_test_split(X, y, stratify=y,\n",
    "                                                     random_state=1)\n",
    "clf = MLPClassifier(random_state=1, max_iter=300).fit(X_train, y_train)\n",
    "\n",
    "# Train the model\n",
    "clf.fit(train_features, train_labels)\n",
    "\n",
    "# Make predictions on the test set\n",
    "test_predictions = clf.predict(test_features)\n",
    "\n",
    "# Evaluate the model on the test set\n",
    "test_accuracy = accuracy_score(test_labels, test_predictions)\n",
    "test_report = classification_report(test_labels, test_predictions)\n",
    "test_logloss = log_loss(test_labels, clf.predict_proba(test_features))\n",
    "\n",
    "print(f'Test Accuracy: {test_accuracy:.2f}')\n",
    "print('Test Classification Report:')\n",
    "print(test_logloss)\n",
    "print(test_report)"
   ]
  },
  {
   "cell_type": "code",
   "execution_count": 9,
   "id": "ae94afbd-51a0-4a73-bed0-a326853b786d",
   "metadata": {
    "tags": []
   },
   "outputs": [
    {
     "data": {
      "image/png": "[encoded data removed]",
      "text/plain": [
       "<Figure size 800x600 with 2 Axes>"
      ]
     },
     "metadata": {},
     "output_type": "display_data"
    }
   ],
   "source": [
    "from sklearn.metrics import confusion_matrix\n",
    "import seaborn as sns\n",
    "import matplotlib.pyplot as plt\n",
    "\n",
    "# Create a confusion matrix\n",
    "conf_matrix = confusion_matrix(test_labels, test_predictions)\n",
    "\n",
    "# Plot the confusion matrix using seaborn and matplotlib\n",
    "plt.figure(figsize=(8, 6))\n",
    "sns.heatmap(conf_matrix, annot=True, fmt='d', cmap='Blues', \n",
    "            xticklabels=['Negative', 'Neutral', 'Positive'], \n",
    "            yticklabels=['Negative', 'Neutral', 'Positive'])\n",
    "plt.xlabel('Predicted')\n",
    "plt.ylabel('Actual')\n",
    "plt.title('Confusion Matrix')\n",
    "plt.savefig('2_conf.pdf', format='pdf')\n",
    "plt.show()"
   ]
  },
  {
   "cell_type": "code",
   "execution_count": 10,
   "id": "1d8c632d-ba2c-48ce-82ec-1aeec42d9544",
   "metadata": {
    "tags": []
   },
   "outputs": [],
   "source": [
    "def analyze_sentiment(input_text):\n",
    "    # Preprocess the input text\n",
    "    input_text = input_text.lower()\n",
    "\n",
    "    # Transform the input text using the same TF-IDF vectorizer\n",
    "    input_tfidf = tfidf_vectorizer.transform([input_text])\n",
    "\n",
    "    # Predict the sentiment for the input text\n",
    "    predicted_sentiment = clf.predict(input_tfidf)[0]\n",
    "\n",
    "    return predicted_sentiment"
   ]
  },
  {
   "cell_type": "code",
   "execution_count": 11,
   "id": "f58634ef-5adf-467d-a865-a7cd3374b8e6",
   "metadata": {
    "tags": []
   },
   "outputs": [
    {
     "data": {
      "text/plain": [
       "1.0"
      ]
     },
     "execution_count": 11,
     "metadata": {},
     "output_type": "execute_result"
    }
   ],
   "source": [
    "analyze_sentiment(\"I am going to buy apple stock. I love apple stock!\")"
   ]
  },
  {
   "cell_type": "code",
   "execution_count": null,
   "id": "e0af7060-75bd-4b59-8d89-fcc57ab7725a",
   "metadata": {},
   "outputs": [],
   "source": []
  }
 ],
 "metadata": {
  "kernelspec": {
   "display_name": "Python 3",
   "language": "python",
   "name": "python3"
  },
  "language_info": {
   "codemirror_mode": {
    "name": "ipython",
    "version": 3
   },
   "file_extension": ".py",
   "mimetype": "text/x-python",
   "name": "python",
   "nbconvert_exporter": "python",
   "pygments_lexer": "ipython3",
   "version": "3.10.8"
  }
 },
 "nbformat": 4,
 "nbformat_minor": 5
}
