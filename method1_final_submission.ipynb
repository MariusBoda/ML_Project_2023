{
 "cells": [
  {
   "cell_type": "code",
   "execution_count": 1,
   "id": "60c2ede2-f5ac-4fbc-b8dd-d9ebece4dd9e",
   "metadata": {
    "tags": []
   },
   "outputs": [],
   "source": [
    "import numpy as np                   \n",
    "import pandas as pd                  \n",
    "import matplotlib.pyplot as plt\n",
    "from sklearn.model_selection import train_test_split\n",
    "from sklearn.feature_extraction.text import TfidfVectorizer\n",
    "from sklearn.linear_model import LogisticRegression\n",
    "from sklearn.metrics import accuracy_score, classification_report"
   ]
  },
  {
   "cell_type": "code",
   "execution_count": 2,
   "id": "6936f44f-5755-4bcf-87bf-83f5bb577fb2",
   "metadata": {
    "tags": []
   },
   "outputs": [
    {
     "data": {
      "text/html": [
       "<div>\n",
       "<style scoped>\n",
       "    .dataframe tbody tr th:only-of-type {\n",
       "        vertical-align: middle;\n",
       "    }\n",
       "\n",
       "    .dataframe tbody tr th {\n",
       "        vertical-align: top;\n",
       "    }\n",
       "\n",
       "    .dataframe thead th {\n",
       "        text-align: right;\n",
       "    }\n",
       "</style>\n",
       "<table border=\"1\" class=\"dataframe\">\n",
       "  <thead>\n",
       "    <tr style=\"text-align: right;\">\n",
       "      <th></th>\n",
       "      <th>selected_text</th>\n",
       "      <th>sentiment</th>\n",
       "    </tr>\n",
       "  </thead>\n",
       "  <tbody>\n",
       "    <tr>\n",
       "      <th>1</th>\n",
       "      <td>#AAPL:The 10 best Steve Jobs emails ever...htt...</td>\n",
       "      <td>3</td>\n",
       "    </tr>\n",
       "    <tr>\n",
       "      <th>2</th>\n",
       "      <td>RT @JPDesloges: Why AAPL Stock Had a Mini-Flas...</td>\n",
       "      <td>3</td>\n",
       "    </tr>\n",
       "    <tr>\n",
       "      <th>3</th>\n",
       "      <td>My cat only chews @apple cords. Such an #Apple...</td>\n",
       "      <td>3</td>\n",
       "    </tr>\n",
       "    <tr>\n",
       "      <th>4</th>\n",
       "      <td>I agree with @jimcramer that the #IndividualIn...</td>\n",
       "      <td>3</td>\n",
       "    </tr>\n",
       "    <tr>\n",
       "      <th>5</th>\n",
       "      <td>Nobody expects the Spanish Inquisition #AAPL</td>\n",
       "      <td>3</td>\n",
       "    </tr>\n",
       "    <tr>\n",
       "      <th>...</th>\n",
       "      <td>...</td>\n",
       "      <td>...</td>\n",
       "    </tr>\n",
       "    <tr>\n",
       "      <th>3882</th>\n",
       "      <td>(Via FC) Apple Is Warming Up To Social Media -...</td>\n",
       "      <td>3</td>\n",
       "    </tr>\n",
       "    <tr>\n",
       "      <th>3883</th>\n",
       "      <td>RT @MMLXIV: there is no avocado emoji may I as...</td>\n",
       "      <td>3</td>\n",
       "    </tr>\n",
       "    <tr>\n",
       "      <th>3884</th>\n",
       "      <td>@marcbulandr I could not agree more. Between @...</td>\n",
       "      <td>5</td>\n",
       "    </tr>\n",
       "    <tr>\n",
       "      <th>3885</th>\n",
       "      <td>My iPhone 5's photos are no longer downloading...</td>\n",
       "      <td>1</td>\n",
       "    </tr>\n",
       "    <tr>\n",
       "      <th>3886</th>\n",
       "      <td>RT @SwiftKey: We're so excited to be named to ...</td>\n",
       "      <td>5</td>\n",
       "    </tr>\n",
       "  </tbody>\n",
       "</table>\n",
       "<p>3886 rows × 2 columns</p>\n",
       "</div>"
      ],
      "text/plain": [
       "                                          selected_text sentiment\n",
       "1     #AAPL:The 10 best Steve Jobs emails ever...htt...         3\n",
       "2     RT @JPDesloges: Why AAPL Stock Had a Mini-Flas...         3\n",
       "3     My cat only chews @apple cords. Such an #Apple...         3\n",
       "4     I agree with @jimcramer that the #IndividualIn...         3\n",
       "5          Nobody expects the Spanish Inquisition #AAPL         3\n",
       "...                                                 ...       ...\n",
       "3882  (Via FC) Apple Is Warming Up To Social Media -...         3\n",
       "3883  RT @MMLXIV: there is no avocado emoji may I as...         3\n",
       "3884  @marcbulandr I could not agree more. Between @...         5\n",
       "3885  My iPhone 5's photos are no longer downloading...         1\n",
       "3886  RT @SwiftKey: We're so excited to be named to ...         5\n",
       "\n",
       "[3886 rows x 2 columns]"
      ]
     },
     "execution_count": 2,
     "metadata": {},
     "output_type": "execute_result"
    }
   ],
   "source": [
    "data = pd.read_csv(\"Apple-Twitter-Sentiment-DFE.csv\", sep=';', encoding='utf-8', header = 0)\n",
    "headers = data.iloc[0]\n",
    "data.columns = headers\n",
    "data = data.iloc[1:]\n",
    "filtered_data = pd.DataFrame()\n",
    "filtered_data['selected_text'] = data['text']\n",
    "filtered_data['sentiment'] = data['sentiment']\n",
    "data = filtered_data\n",
    "data.head(10000)"
   ]
  },
  {
   "cell_type": "code",
   "execution_count": 3,
   "id": "5fc57448-10fc-4f8c-879b-5354eb0367c8",
   "metadata": {
    "tags": []
   },
   "outputs": [
    {
     "name": "stdout",
     "output_type": "stream",
     "text": [
      "['3' '5' '1' 'not_relevant']\n"
     ]
    }
   ],
   "source": [
    "# Check unique values in the 'sentiment' column\n",
    "unique_sentiments = data['sentiment'].unique()\n",
    "print(unique_sentiments)\n",
    "\n",
    "# If 'not_relevant' is present, remove those rows or replace it with a valid integer label\n",
    "data = data[data['sentiment'] != 'not_relevant']"
   ]
  },
  {
   "cell_type": "code",
   "execution_count": 4,
   "id": "c27c3157-65e5-4c4a-aa60-1d0e77eb406e",
   "metadata": {
    "tags": []
   },
   "outputs": [],
   "source": [
    "train_data, test_data, train_labels, test_labels = train_test_split(\n",
    "    data['selected_text'], data['sentiment'], test_size=0.2, random_state=42)"
   ]
  },
  {
   "cell_type": "code",
   "execution_count": 5,
   "id": "1ccc7d2b-8ac8-4f17-805f-6b32f99eb58d",
   "metadata": {
    "tags": []
   },
   "outputs": [],
   "source": [
    "tfidf_vectorizer = TfidfVectorizer(max_features=5000, stop_words='english')\n",
    "train_features = tfidf_vectorizer.fit_transform(train_data)\n",
    "test_features = tfidf_vectorizer.transform(test_data)"
   ]
  },
  {
   "cell_type": "code",
   "execution_count": 22,
   "id": "84cbff57-de8d-433c-96df-696a6a3af660",
   "metadata": {
    "tags": []
   },
   "outputs": [
    {
     "name": "stdout",
     "output_type": "stream",
     "text": [
      "Accuracy: 0.75\n",
      "Classification Report:\n",
      "              precision    recall  f1-score   support\n",
      "\n",
      "           1       0.75      0.71      0.73       238\n",
      "           3       0.76      0.90      0.82       429\n",
      "           5       0.74      0.21      0.33        94\n",
      "\n",
      "    accuracy                           0.75       761\n",
      "   macro avg       0.75      0.61      0.63       761\n",
      "weighted avg       0.75      0.75      0.73       761\n",
      "\n"
     ]
    }
   ],
   "source": [
    "model = LogisticRegression()\n",
    "\n",
    "# Train the model\n",
    "model.fit(train_features, train_labels)\n",
    "\n",
    "# Make predictions on the test set\n",
    "predictions = model.predict(test_features)\n",
    "\n",
    "# Evaluate the model\n",
    "accuracy = accuracy_score(test_labels, predictions)\n",
    "report = classification_report(test_labels, predictions)\n",
    "\n",
    "print(f'Accuracy: {accuracy:.2f}')\n",
    "print('Classification Report:')\n",
    "print(report)"
   ]
  },
  {
   "cell_type": "code",
   "execution_count": 8,
   "id": "6b5be1df-6a6c-4bf5-98d9-6b5dff173960",
   "metadata": {
    "tags": []
   },
   "outputs": [
    {
     "data": {
      "image/png": "[encoded data removed]",
      "text/plain": [
       "<Figure size 800x600 with 2 Axes>"
      ]
     },
     "metadata": {},
     "output_type": "display_data"
    }
   ],
   "source": [
    "from sklearn.metrics import confusion_matrix\n",
    "import seaborn as sns\n",
    "import matplotlib.pyplot as plt\n",
    "\n",
    "# Create a confusion matrix\n",
    "conf_matrix = confusion_matrix(test_labels, predictions)\n",
    "\n",
    "# Plot the confusion matrix using seaborn and matplotlib\n",
    "plt.figure(figsize=(8, 6))\n",
    "sns.heatmap(conf_matrix, annot=True, fmt='d', cmap='Blues', \n",
    "            xticklabels=['Negative', 'Neutral', 'Positive'], \n",
    "            yticklabels=['Negative', 'Neutral', 'Positive'])\n",
    "plt.xlabel('Predicted')\n",
    "plt.ylabel('Actual')\n",
    "plt.title('Confusion Matrix')\n",
    "plt.show()"
   ]
  },
  {
   "cell_type": "code",
   "execution_count": 11,
   "id": "da57493e-a44b-49a5-be37-66c96b4db7fd",
   "metadata": {
    "tags": []
   },
   "outputs": [],
   "source": [
    "def analyze_sentiment(input_text):\n",
    "    # Preprocess the input text\n",
    "    input_text = input_text.lower()\n",
    "\n",
    "    # Transform the input text using the same TF-IDF vectorizer\n",
    "    input_tfidf = tfidf_vectorizer.transform([input_text])\n",
    "\n",
    "    # Predict the sentiment for the input text\n",
    "    predicted_sentiment = model.predict(input_tfidf)[0]\n",
    "\n",
    "    return predicted_sentiment"
   ]
  },
  {
   "cell_type": "code",
   "execution_count": 20,
   "id": "a66403ab-091d-4dba-ae60-cc8117710a1c",
   "metadata": {
    "tags": []
   },
   "outputs": [
    {
     "data": {
      "text/plain": [
       "'5'"
      ]
     },
     "execution_count": 20,
     "metadata": {},
     "output_type": "execute_result"
    }
   ],
   "source": [
    "analyze_sentiment(\"I love apple stock\")"
   ]
  }
 ],
 "metadata": {
  "kernelspec": {
   "display_name": "Python 3",
   "language": "python",
   "name": "python3"
  },
  "language_info": {
   "codemirror_mode": {
    "name": "ipython",
    "version": 3
   },
   "file_extension": ".py",
   "mimetype": "text/x-python",
   "name": "python",
   "nbconvert_exporter": "python",
   "pygments_lexer": "ipython3",
   "version": "3.10.8"
  }
 },
 "nbformat": 4,
 "nbformat_minor": 5
}
