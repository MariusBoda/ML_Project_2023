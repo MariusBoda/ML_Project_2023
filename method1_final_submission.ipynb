{
 "cells": [
  {
   "cell_type": "code",
   "execution_count": 1,
   "id": "60c2ede2-f5ac-4fbc-b8dd-d9ebece4dd9e",
   "metadata": {
    "tags": []
   },
   "outputs": [],
   "source": [
    "import numpy as np                   \n",
    "import pandas as pd                  \n",
    "import matplotlib.pyplot as plt\n",
    "from sklearn.model_selection import train_test_split\n",
    "from sklearn.feature_extraction.text import TfidfVectorizer\n",
    "from sklearn.linear_model import LogisticRegression\n",
    "from sklearn.metrics import accuracy_score, classification_report\n",
    "from sklearn.metrics import log_loss"
   ]
  },
  {
   "cell_type": "code",
   "execution_count": 2,
   "id": "6936f44f-5755-4bcf-87bf-83f5bb577fb2",
   "metadata": {
    "tags": []
   },
   "outputs": [
    {
     "data": {
      "text/html": [
       "<div>\n",
       "<style scoped>\n",
       "    .dataframe tbody tr th:only-of-type {\n",
       "        vertical-align: middle;\n",
       "    }\n",
       "\n",
       "    .dataframe tbody tr th {\n",
       "        vertical-align: top;\n",
       "    }\n",
       "\n",
       "    .dataframe thead th {\n",
       "        text-align: right;\n",
       "    }\n",
       "</style>\n",
       "<table border=\"1\" class=\"dataframe\">\n",
       "  <thead>\n",
       "    <tr style=\"text-align: right;\">\n",
       "      <th></th>\n",
       "      <th>selected_text</th>\n",
       "      <th>sentiment</th>\n",
       "    </tr>\n",
       "  </thead>\n",
       "  <tbody>\n",
       "    <tr>\n",
       "      <th>1</th>\n",
       "      <td>#AAPL:The 10 best Steve Jobs emails ever...htt...</td>\n",
       "      <td>3</td>\n",
       "    </tr>\n",
       "    <tr>\n",
       "      <th>2</th>\n",
       "      <td>RT @JPDesloges: Why AAPL Stock Had a Mini-Flas...</td>\n",
       "      <td>3</td>\n",
       "    </tr>\n",
       "    <tr>\n",
       "      <th>3</th>\n",
       "      <td>My cat only chews @apple cords. Such an #Apple...</td>\n",
       "      <td>3</td>\n",
       "    </tr>\n",
       "    <tr>\n",
       "      <th>4</th>\n",
       "      <td>I agree with @jimcramer that the #IndividualIn...</td>\n",
       "      <td>3</td>\n",
       "    </tr>\n",
       "    <tr>\n",
       "      <th>5</th>\n",
       "      <td>Nobody expects the Spanish Inquisition #AAPL</td>\n",
       "      <td>3</td>\n",
       "    </tr>\n",
       "    <tr>\n",
       "      <th>...</th>\n",
       "      <td>...</td>\n",
       "      <td>...</td>\n",
       "    </tr>\n",
       "    <tr>\n",
       "      <th>3882</th>\n",
       "      <td>(Via FC) Apple Is Warming Up To Social Media -...</td>\n",
       "      <td>3</td>\n",
       "    </tr>\n",
       "    <tr>\n",
       "      <th>3883</th>\n",
       "      <td>RT @MMLXIV: there is no avocado emoji may I as...</td>\n",
       "      <td>3</td>\n",
       "    </tr>\n",
       "    <tr>\n",
       "      <th>3884</th>\n",
       "      <td>@marcbulandr I could not agree more. Between @...</td>\n",
       "      <td>5</td>\n",
       "    </tr>\n",
       "    <tr>\n",
       "      <th>3885</th>\n",
       "      <td>My iPhone 5's photos are no longer downloading...</td>\n",
       "      <td>1</td>\n",
       "    </tr>\n",
       "    <tr>\n",
       "      <th>3886</th>\n",
       "      <td>RT @SwiftKey: We're so excited to be named to ...</td>\n",
       "      <td>5</td>\n",
       "    </tr>\n",
       "  </tbody>\n",
       "</table>\n",
       "<p>3886 rows × 2 columns</p>\n",
       "</div>"
      ],
      "text/plain": [
       "                                          selected_text sentiment\n",
       "1     #AAPL:The 10 best Steve Jobs emails ever...htt...         3\n",
       "2     RT @JPDesloges: Why AAPL Stock Had a Mini-Flas...         3\n",
       "3     My cat only chews @apple cords. Such an #Apple...         3\n",
       "4     I agree with @jimcramer that the #IndividualIn...         3\n",
       "5          Nobody expects the Spanish Inquisition #AAPL         3\n",
       "...                                                 ...       ...\n",
       "3882  (Via FC) Apple Is Warming Up To Social Media -...         3\n",
       "3883  RT @MMLXIV: there is no avocado emoji may I as...         3\n",
       "3884  @marcbulandr I could not agree more. Between @...         5\n",
       "3885  My iPhone 5's photos are no longer downloading...         1\n",
       "3886  RT @SwiftKey: We're so excited to be named to ...         5\n",
       "\n",
       "[3886 rows x 2 columns]"
      ]
     },
     "execution_count": 2,
     "metadata": {},
     "output_type": "execute_result"
    }
   ],
   "source": [
    "data = pd.read_csv(\"Apple-Twitter-Sentiment-DFE.csv\", sep=';', encoding='utf-8', header = 0)\n",
    "headers = data.iloc[0]\n",
    "data.columns = headers\n",
    "data = data.iloc[1:]\n",
    "filtered_data = pd.DataFrame()\n",
    "filtered_data['selected_text'] = data['text']\n",
    "filtered_data['sentiment'] = data['sentiment']\n",
    "data = filtered_data\n",
    "data.head(10000)"
   ]
  },
  {
   "cell_type": "code",
   "execution_count": 3,
   "id": "5fc57448-10fc-4f8c-879b-5354eb0367c8",
   "metadata": {
    "tags": []
   },
   "outputs": [
    {
     "name": "stdout",
     "output_type": "stream",
     "text": [
      "['3' '5' '1' 'not_relevant']\n"
     ]
    }
   ],
   "source": [
    "# Check unique values in the 'sentiment' column\n",
    "unique_sentiments = data['sentiment'].unique()\n",
    "print(unique_sentiments)\n",
    "\n",
    "# If 'not_relevant' is present, remove those rows or replace it with a valid integer label\n",
    "data = data[data['sentiment'] != 'not_relevant']"
   ]
  },
  {
   "cell_type": "code",
   "execution_count": 4,
   "id": "5f2e6b30-9c2b-40af-a73d-11646158edb3",
   "metadata": {
    "tags": []
   },
   "outputs": [
    {
     "name": "stderr",
     "output_type": "stream",
     "text": [
      "/tmp/ipykernel_661/2816645307.py:2: SettingWithCopyWarning: \n",
      "A value is trying to be set on a copy of a slice from a DataFrame.\n",
      "Try using .loc[row_indexer,col_indexer] = value instead\n",
      "\n",
      "See the caveats in the documentation: https://pandas.pydata.org/pandas-docs/stable/user_guide/indexing.html#returning-a-view-versus-a-copy\n",
      "  data['sentiment'] = data['sentiment'].astype(str).str.extract('(\\d+)', expand=False).astype(float)\n"
     ]
    }
   ],
   "source": [
    "# Assuming your original DataFrame is named data\n",
    "data['sentiment'] = data['sentiment'].astype(str).str.extract('(\\d+)', expand=False).astype(float)\n",
    "\n",
    "# Filter rows for each sentiment\n",
    "sentiment_1 = data.loc[data['sentiment'] == 1]\n",
    "sentiment_3 = data.loc[data['sentiment'] == 3]\n",
    "sentiment_5 = data.loc[data['sentiment'] == 5]\n",
    "\n",
    "# Use the total number of rows for each sentiment as the sample size\n",
    "sample_size = 400\n",
    "\n",
    "# Sample rows for each sentiment\n",
    "sampled_sentiment_1 = sentiment_1.sample(n=sample_size, random_state=42)\n",
    "sampled_sentiment_3 = sentiment_3.sample(n=sample_size, random_state=42)\n",
    "sampled_sentiment_5 = sentiment_5.sample(n=sample_size, random_state=42)\n",
    "\n",
    "# Concatenate the sampled DataFrames to create the new DataFrame\n",
    "new_df = pd.concat([sampled_sentiment_1, sampled_sentiment_3, sampled_sentiment_5])\n",
    "\n",
    "# Optional: Reset the index of the new DataFrame\n",
    "new_df = new_df.reset_index(drop=True)"
   ]
  },
  {
   "cell_type": "code",
   "execution_count": 5,
   "id": "a6606390-1689-4fdf-b319-b8f2410a2501",
   "metadata": {
    "tags": []
   },
   "outputs": [],
   "source": [
    "data = new_df"
   ]
  },
  {
   "cell_type": "code",
   "execution_count": 6,
   "id": "b93b17da-2b07-41de-9d07-8cfcae8de4cd",
   "metadata": {
    "tags": []
   },
   "outputs": [],
   "source": [
    "# Split the data into training (60%), validation (20%), and test (20%) sets\n",
    "train_data, temp_data, train_labels, temp_labels = train_test_split(\n",
    "    data['selected_text'], data['sentiment'], test_size=0.4, random_state=42)\n",
    "\n",
    "val_data, test_data, val_labels, test_labels = train_test_split(\n",
    "    temp_data, temp_labels, test_size=0.5, random_state=42)"
   ]
  },
  {
   "cell_type": "code",
   "execution_count": 7,
   "id": "4b621418-2791-4f8e-a027-d97d179f1a9d",
   "metadata": {
    "tags": []
   },
   "outputs": [],
   "source": [
    "# Vectorize the training, validation, and test data\n",
    "tfidf_vectorizer = TfidfVectorizer(max_features=5000, stop_words='english')\n",
    "\n",
    "train_features = tfidf_vectorizer.fit_transform(train_data)\n",
    "val_features = tfidf_vectorizer.transform(val_data)\n",
    "test_features = tfidf_vectorizer.transform(test_data)"
   ]
  },
  {
   "cell_type": "code",
   "execution_count": 10,
   "id": "84cbff57-de8d-433c-96df-696a6a3af660",
   "metadata": {
    "tags": []
   },
   "outputs": [
    {
     "name": "stdout",
     "output_type": "stream",
     "text": [
      "Validation Accuracy: 0.71\n",
      "Validation Classification Report:\n",
      "0.781308633408594\n",
      "              precision    recall  f1-score   support\n",
      "\n",
      "         1.0       0.77      0.73      0.75        81\n",
      "         3.0       0.64      0.72      0.68        79\n",
      "         5.0       0.74      0.69      0.71        80\n",
      "\n",
      "    accuracy                           0.71       240\n",
      "   macro avg       0.72      0.71      0.71       240\n",
      "weighted avg       0.72      0.71      0.71       240\n",
      "\n",
      "Test Accuracy: 0.68\n",
      "Test Classification Report:\n",
      "0.815896320422268\n",
      "              precision    recall  f1-score   support\n",
      "\n",
      "         1.0       0.74      0.60      0.67        86\n",
      "         3.0       0.61      0.73      0.67        85\n",
      "         5.0       0.70      0.70      0.70        69\n",
      "\n",
      "    accuracy                           0.68       240\n",
      "   macro avg       0.68      0.68      0.68       240\n",
      "weighted avg       0.68      0.68      0.68       240\n",
      "\n"
     ]
    }
   ],
   "source": [
    "model = LogisticRegression()\n",
    "\n",
    "# Train the model\n",
    "model.fit(train_features, train_labels)\n",
    "\n",
    "# Make predictions on the validation set\n",
    "val_predictions = model.predict(val_features)\n",
    "\n",
    "# Evaluate the model on the validation set\n",
    "val_accuracy = accuracy_score(val_labels, val_predictions)\n",
    "val_report = classification_report(val_labels, val_predictions)\n",
    "val_logloss = log_loss(val_labels, model.predict_proba(val_features))\n",
    "\n",
    "print(f'Validation Accuracy: {val_accuracy:.2f}')\n",
    "print('Validation Classification Report:')\n",
    "print(val_logloss)\n",
    "print(val_report)\n",
    "\n",
    "# Make predictions on the test set\n",
    "test_predictions = model.predict(test_features)\n",
    "\n",
    "# Evaluate the model on the test set\n",
    "test_accuracy = accuracy_score(test_labels, test_predictions)\n",
    "test_report = classification_report(test_labels, test_predictions)\n",
    "test_logloss = log_loss(test_labels, model.predict_proba(test_features))\n",
    "\n",
    "print(f'Test Accuracy: {test_accuracy:.2f}')\n",
    "print('Test Classification Report:')\n",
    "print(test_logloss)\n",
    "print(test_report)"
   ]
  },
  {
   "cell_type": "code",
   "execution_count": 17,
   "id": "6b5be1df-6a6c-4bf5-98d9-6b5dff173960",
   "metadata": {
    "tags": []
   },
   "outputs": [
    {
     "data": {
      "image/png": "[encoded data removed]",
      "text/plain": [
       "<Figure size 800x600 with 2 Axes>"
      ]
     },
     "metadata": {},
     "output_type": "display_data"
    }
   ],
   "source": [
    "from sklearn.metrics import confusion_matrix\n",
    "import seaborn as sns\n",
    "import matplotlib.pyplot as plt\n",
    "\n",
    "# Create a confusion matrix\n",
    "conf_matrix = confusion_matrix(test_labels, test_predictions)\n",
    "\n",
    "# Plot the confusion matrix using seaborn and matplotlib\n",
    "plt.figure(figsize=(8, 6))\n",
    "sns.heatmap(conf_matrix, annot=True, fmt='d', cmap='Blues', \n",
    "            xticklabels=['Negative', 'Neutral', 'Positive'], \n",
    "            yticklabels=['Negative', 'Neutral', 'Positive'])\n",
    "plt.xlabel('Predicted')\n",
    "plt.ylabel('Actual')\n",
    "plt.title('Confusion Matrix')\n",
    "plt.savefig('1_conf.pdf', format='pdf')\n",
    "plt.show()"
   ]
  },
  {
   "cell_type": "code",
   "execution_count": 20,
   "id": "da57493e-a44b-49a5-be37-66c96b4db7fd",
   "metadata": {
    "tags": []
   },
   "outputs": [],
   "source": [
    "def analyze_sentiment(input_text):\n",
    "    # Preprocess the input text\n",
    "    input_text = input_text.lower()\n",
    "\n",
    "    # Transform the input text using the same TF-IDF vectorizer\n",
    "    input_tfidf = tfidf_vectorizer.transform([input_text])\n",
    "\n",
    "    # Predict the sentiment for the input text\n",
    "    predicted_sentiment = model.predict(input_tfidf)[0]\n",
    "\n",
    "    return predicted_sentiment"
   ]
  },
  {
   "cell_type": "code",
   "execution_count": 33,
   "id": "a66403ab-091d-4dba-ae60-cc8117710a1c",
   "metadata": {
    "tags": []
   },
   "outputs": [
    {
     "data": {
      "text/plain": [
       "1.0"
      ]
     },
     "execution_count": 33,
     "metadata": {},
     "output_type": "execute_result"
    }
   ],
   "source": [
    "analyze_sentiment(\"hi\")"
   ]
  },
  {
   "cell_type": "code",
   "execution_count": null,
   "id": "b1d7b729-ed6c-4283-b1df-02ca92cd46aa",
   "metadata": {},
   "outputs": [],
   "source": []
  }
 ],
 "metadata": {
  "kernelspec": {
   "display_name": "Python 3",
   "language": "python",
   "name": "python3"
  },
  "language_info": {
   "codemirror_mode": {
    "name": "ipython",
    "version": 3
   },
   "file_extension": ".py",
   "mimetype": "text/x-python",
   "name": "python",
   "nbconvert_exporter": "python",
   "pygments_lexer": "ipython3",
   "version": "3.10.8"
  }
 },
 "nbformat": 4,
 "nbformat_minor": 5
}
